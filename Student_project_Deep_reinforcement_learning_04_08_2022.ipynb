{
  "cells": [
    {
      "cell_type": "markdown",
      "metadata": {
        "id": "M2Kk61YbOix6"
      },
      "source": [
        "#IMPORTING REQUIRED MODULES"
      ]
    },
    {
      "cell_type": "code",
      "execution_count": null,
      "metadata": {
        "id": "JGAkKQzDW1Ss"
      },
      "outputs": [],
      "source": [
        "!pip install -U -q PyDrive"
      ]
    },
    {
      "cell_type": "code",
      "source": [
        "from google.colab import drive\n",
        "drive.mount('/content/drive')"
      ],
      "metadata": {
        "id": "qU3v_QQQg2DP"
      },
      "execution_count": null,
      "outputs": []
    },
    {
      "cell_type": "code",
      "execution_count": null,
      "metadata": {
        "id": "DHMB17CanxHE"
      },
      "outputs": [],
      "source": [
        "import numpy as np\n",
        "import cv2 as cv\n",
        "import matplotlib.pyplot as plt\n",
        "from PIL import Image\n",
        "import gym\n",
        "from gym import spaces\n",
        "from google.colab.patches import cv2_imshow\n",
        "\n",
        "import random\n",
        "from random import randrange\n",
        "import ipywidgets as widgets\n",
        "\n",
        "import os,sys\n",
        "import imageio\n",
        "\n",
        "from google.colab import drive\n",
        "from pydrive.auth import GoogleAuth\n",
        "from pydrive.drive import GoogleDrive\n",
        "from google.colab import auth\n",
        "from oauth2client.client import GoogleCredentials\n",
        "from google.colab import files"
      ]
    },
    {
      "cell_type": "markdown",
      "metadata": {
        "id": "tzWcbMsgh2jw"
      },
      "source": [
        "#HORIZONTAL RECTANGLE CLASS"
      ]
    },
    {
      "cell_type": "code",
      "execution_count": null,
      "metadata": {
        "id": "Lqt86wEEOTTl"
      },
      "outputs": [],
      "source": [
        "class Horiz_Rectangle(gym.Env):\n",
        "  metadata={'render.modes':['human']}\n",
        "\n",
        "  def __init__(self):\n",
        "\n",
        "    #Coordinates for the block green:\n",
        "    z=np.random.randint(0,9)\n",
        "    self.x_cell_size=([z,z+1])\n",
        "    self.y_cell_size=np.random.randint(0,10)\n",
        "\n",
        "    #Coordinates check for out of bound of output window(10x10):\n",
        "    if self.x_cell_size[0] < 0:\n",
        "        self.x_cell_size[0] = 0\n",
        "    if self.x_cell_size[1] < 0:\n",
        "        self.x_cell_size[1] = 1\n",
        "    if self.x_cell_size[0] > 9:\n",
        "        self.x_cell_size[0] = 8\n",
        "    if self.x_cell_size[1] > 9:\n",
        "        self.x_cell_size[1] = 9\n",
        "        \n",
        "    if self.y_cell_size < 0:\n",
        "        self.y_cell_size = 0\n",
        "    if self.y_cell_size> 9:\n",
        "        self.y_cell_size= 9\n",
        "\n",
        "    #Initializing state and centroid of the object:\n",
        "    self.state=[[self.x_cell_size[0],self.y_cell_size],[self.x_cell_size[1],self.y_cell_size]]\n",
        "    self.state_original=[[self.x_cell_size[0],self.y_cell_size],[self.x_cell_size[1],self.y_cell_size]]\n",
        "    self.centroid_x_cell_size=(((2*z)+1)/2) + 0.5\n",
        "    self.centroid_y_cell_size=self.y_cell_size+0.5\n",
        "    self.centroid_state=self.centroid_x_cell_size,self.centroid_y_cell_size\n",
        "    \n",
        "  #Function to check the overlapping of machines:\n",
        "  #If machines are overlapped, reset the position of the machine.\n",
        "  def compare_elements(self,other):\n",
        "    bflag=False\n",
        "    for x in range(len(self.state)):\n",
        "      for y in range(len(other.state)):\n",
        "          if self.state[x] == other.state[y]:\n",
        "              z=np.random.randint(0,9)\n",
        "              self.x_cell_size=([z,z+1])\n",
        "              self.y_cell_size=np.random.randint(0,10)\n",
        "              self.state=[[self.x_cell_size[0],self.y_cell_size],[self.x_cell_size[1],self.y_cell_size]]\n",
        "              self.state_original=[[self.x_cell_size[0],self.y_cell_size],[self.x_cell_size[1],self.y_cell_size]]\n",
        "              self.centroid_x_cell_size=(((2*z)+1)/2) + 0.5\n",
        "              self.centroid_y_cell_size=self.y_cell_size+0.5\n",
        "              self.centroid_state=self.centroid_x_cell_size,self.centroid_y_cell_size\n",
        "              bflag=True     \n",
        "          else:\n",
        "              self.state=self.state\n",
        "              self.state_original=[[self.x_cell_size[0],self.y_cell_size],[self.x_cell_size[1],self.y_cell_size]]\n",
        "    return self.state,bflag\n",
        "    \n",
        "  #Step function:\n",
        "  def step(self,action):\n",
        "    if action==0: #move left\n",
        "        self.x_cell_size[0]=self.x_cell_size[0]-1\n",
        "        self.x_cell_size[1]=self.x_cell_size[1]-1\n",
        "    elif action==1: #move right\n",
        "        self.x_cell_size[0]=self.x_cell_size[0]+1\n",
        "        self.x_cell_size[1]=self.x_cell_size[1]+1\n",
        "    elif action==2: #move up\n",
        "        self.y_cell_size=self.y_cell_size-1\n",
        "    elif action==3: #move down\n",
        "        self.y_cell_size=self.y_cell_size+1\n",
        "      \n",
        "  #Coordinates check for out of bound after step\n",
        "    if self.x_cell_size[0] < 0:\n",
        "        self.x_cell_size[0] = 0\n",
        "    if self.x_cell_size[1] < 1:\n",
        "        self.x_cell_size[1] = 1\n",
        "    if self.x_cell_size[0]> 8:\n",
        "        self.x_cell_size[0]= 8\n",
        "    if self.x_cell_size[1] > 9:\n",
        "        self.x_cell_size[1] = 9\n",
        "        \n",
        "    if self.y_cell_size < 0:\n",
        "        self.y_cell_size = 0\n",
        "    if self.y_cell_size> 9:\n",
        "        self.y_cell_size= 9\n",
        "      \n",
        "    #initializing new state and new centroid of the object based on action\n",
        "    self.state=self.state=[[self.x_cell_size[0],self.y_cell_size],[self.x_cell_size[1],self.y_cell_size]]\n",
        "    z=self.x_cell_size[0]\n",
        "    self.centroid_x_cell_size=((2*z)+1)/2+0.5\n",
        "    self.centroid_y_cell_size=self.y_cell_size+0.5\n",
        "    self.centroid_state_new=self.centroid_x_cell_size,self.centroid_y_cell_size\n",
        "\n",
        "    return self.state\n",
        "\n",
        "  #Function to count overlapping of machine after step:\n",
        "  #If the machines are overlapped after step function,the overlapping penalty is added to the reward\n",
        "  def com_after_step(self,other):\n",
        "    bflag=False\n",
        "    for x in range(len(self.state)):\n",
        "      for y in range(len(other.state)):\n",
        "          if self.state[x] == other.state[y]:\n",
        "              bflag=True     \n",
        "    return bflag\n",
        "\n",
        "  #Function to calculate the distance between two machines:\n",
        "  def cal_distance(self,other):\n",
        "    point_1=np.array((self.centroid_x_cell_size,self.centroid_y_cell_size),dtype=np.float64)\n",
        "    point_2=np.array((other.centroid_x_cell_size,other.centroid_y_cell_size),dtype=np.float64)\n",
        "    dist = round(np.linalg.norm(point_1-point_2),3)\n",
        "    return dist\n",
        "\n",
        "  #Function to reset the machine to original position:         \n",
        "  def reset_2(self):\n",
        "    self.x_cell_size[0],self.y_cell_size=self.state_original[0][0], self.state_original[0][1]\n",
        "    self.x_cell_size[1],self.y_cell_size=self.state_original[1][0], self.state_original[1][1]\n",
        "    self.state=[[self.x_cell_size[0],self.y_cell_size],[self.x_cell_size[1],self.y_cell_size]]\n",
        "    z=self.x_cell_size[0]\n",
        "    self.centroid_x_cell_size=((2*z)+1)/2+0.5\n",
        "    self.centroid_y_cell_size=self.y_cell_size+0.5\n",
        "    return self.state   "
      ]
    },
    {
      "cell_type": "markdown",
      "metadata": {
        "id": "70H9vYnpjrdY"
      },
      "source": [
        "#VERTICAL RECTANGLE CLASS"
      ]
    },
    {
      "cell_type": "code",
      "execution_count": null,
      "metadata": {
        "id": "lKty7D2TOftU"
      },
      "outputs": [],
      "source": [
        "class Vert_Rectangle(gym.Env):\n",
        "  metadata={'render.modes':['human']}\n",
        "\n",
        "  def __init__(self):\n",
        "\n",
        "    #Coordinates for the block blue:\n",
        "    a=np.random.randint(1,10)\n",
        "    self.y_cell_size=a\n",
        "    self.y1_cell_size=a-1\n",
        "    self.x_cell_size=np.random.randint(0,10)\n",
        "\n",
        "    #Coordinates check for out of bound of output window(10x10):\n",
        "    if self.x_cell_size < 0:\n",
        "        self.x_cell_size = 0\n",
        "    if self.x_cell_size> 9:\n",
        "        self.x_cell_size= 9\n",
        "\n",
        "    if self.y_cell_size< 1:\n",
        "        self.y_cell_size= 1\n",
        "    if self.y1_cell_size < 0:\n",
        "        self.y1_cell_size = 0\n",
        "    if self.y_cell_size> 9:\n",
        "        self.y_cell_size= 9\n",
        "    if self.y1_cell_size> 8:\n",
        "        self.y1_cell_size= 8\n",
        "\n",
        "    #Initializing state and centroid of the object:\n",
        "    self.state=[[self.x_cell_size,self.y1_cell_size],[self.x_cell_size,self.y_cell_size]]\n",
        "    self.state_original=[[self.x_cell_size,self.y1_cell_size],[self.x_cell_size,self.y_cell_size]]\n",
        "    self.centroid_x_cell_size=self.x_cell_size+0.5\n",
        "    self.centroid_y_cell_size=((2*a)-1)/2+0.5\n",
        "    self.centroid_state=self.centroid_x_cell_size,self.centroid_y_cell_size\n",
        "\n",
        "  #Function to check the overlapping of machines:\n",
        "  #If machines are overlapped, reset the position of the machine\n",
        "  def compare_elements(self,other):\n",
        "    bflag=False\n",
        "    for x in range(len(self.state)):\n",
        "      for y in range(len(other.state)):\n",
        "        if self.state[x] == other.state[y]:\n",
        "          a=np.random.randint(1,10)\n",
        "          self.x_cell_size=np.random.randint(0,10)\n",
        "          self.y_cell_size=a\n",
        "          self.y1_cell_size=a-1\n",
        "          self.state=[[self.x_cell_size,self.y1_cell_size],[self.x_cell_size,self.y_cell_size]]\n",
        "          self.state_original=[[self.x_cell_size,self.y1_cell_size],[self.x_cell_size,self.y_cell_size]]\n",
        "          self.centroid_x_cell_size=self.x_cell_size+0.5\n",
        "          self.centroid_y_cell_size=((2*a)-1)/2+0.5\n",
        "          self.centroid_state=self.centroid_x_cell_size,self.centroid_y_cell_size\n",
        "          bflag=True      \n",
        "        else:\n",
        "          self.state=self.state\n",
        "          self.state_original=[[self.x_cell_size,self.y1_cell_size],[self.x_cell_size,self.y_cell_size]]\n",
        "    return self.state,bflag\n",
        "\n",
        "  #Step function:\n",
        "  def step(self,action):     \n",
        "    if action==0: #move left\n",
        "        self.x_cell_size=self.x_cell_size-1\n",
        "    elif action==1: #move right\n",
        "        self.x_cell_size=self.x_cell_size+1\n",
        "    elif action==2: #move up\n",
        "        self.y1_cell_size=self.y1_cell_size-1\n",
        "        self.y_cell_size=self.y_cell_size-1\n",
        "    elif action==3: #move down\n",
        "        self.y_cell_size=self.y_cell_size+1\n",
        "        self.y1_cell_size=self.y1_cell_size+1\n",
        "\n",
        "    #Coordinates check for out of bound after step:  \n",
        "    if self.x_cell_size < 0:\n",
        "        self.x_cell_size = 0\n",
        "    if self.x_cell_size> 9:\n",
        "        self.x_cell_size= 9\n",
        "        \n",
        "    if self.y1_cell_size< 0:\n",
        "        self.y1_cell_size= 0\n",
        "    if self.y_cell_size < 1:\n",
        "        self.y_cell_size = 1\n",
        "    if self.y1_cell_size> 8:\n",
        "        self.y1_cell_size= 8\n",
        "    if self.y_cell_size> 9:\n",
        "        self.y_cell_size= 9\n",
        "\n",
        "    #Initializing new state and new centroid of the object based on action:\n",
        "    self.state=[[self.x_cell_size,self.y1_cell_size],[self.x_cell_size,self.y_cell_size]]\n",
        "    a=self.y_cell_size\n",
        "    self.centroid_x_cell_size=self.x_cell_size+0.5\n",
        "    self.centroid_y_cell_size=((2*a)-1)/2+0.5\n",
        "    self.centroid_state_new=self.centroid_x_cell_size,self.centroid_y_cell_size\n",
        "    return self.state\n",
        "\n",
        "  #Function to count overlapping of machine after step:\n",
        "  #If the machines are overlapped after step function,the overlapping penalty is added to the reward\n",
        "  def com_after_step(self,other):\n",
        "    bflag=False\n",
        "    for x in range(len(self.state)):\n",
        "      for y in range(len(other.state)):\n",
        "          if self.state[x] == other.state[y]:\n",
        "              bflag=True\n",
        "    return bflag        \n",
        "        \n",
        "  #Function to calculate the distance between two machines:\n",
        "  def cal_distance(self,other):\n",
        "    point_1=np.array((self.centroid_x_cell_size,self.centroid_y_cell_size),dtype=np.float64)\n",
        "    point_2=np.array((other.centroid_x_cell_size,other.centroid_y_cell_size),dtype=np.float64)\n",
        "    dist = round(np.linalg.norm(point_1-point_2),3)\n",
        "    return dist\n",
        "\n",
        "  #Function to reset the machine to original position:  \n",
        "  def reset_2(self):\n",
        "    self.x_cell_size,self.y1_cell_size=self.state_original[0][0], self.state_original[0][1]\n",
        "    self.x_cell_size,self.y_cell_size=self.state_original[1][0], self.state_original[1][1]\n",
        "    self.state=[[self.x_cell_size,self.y1_cell_size],[self.x_cell_size,self.y_cell_size]]\n",
        "    a=self.y_cell_size\n",
        "    self.centroid_x_cell_size=self.x_cell_size+0.5\n",
        "    self.centroid_y_cell_size=((2*a)-1)/2+0.5\n",
        "    return self.state"
      ]
    },
    {
      "cell_type": "markdown",
      "metadata": {
        "id": "6BiFd1ZcmDH6"
      },
      "source": [
        "#SMALL SQUARE CLASS"
      ]
    },
    {
      "cell_type": "code",
      "execution_count": null,
      "metadata": {
        "id": "Iyl6hn80Ox01"
      },
      "outputs": [],
      "source": [
        "class Square(gym.Env):\n",
        "  metadata={'render.modes':['human']}\n",
        "\n",
        "  def __init__(self):\n",
        "\n",
        "    #Coordinates for the block red:\n",
        "    self.x_cell_size=np.random.randint(0,10)\n",
        "    self.y_cell_size=np.random.randint(0,10)\n",
        "    \n",
        "    #Coordinates check for out of bound for output window(10x10):\n",
        "    if self.x_cell_size < 0:\n",
        "        self.x_cell_size = 0\n",
        "    if self.x_cell_size> 9:\n",
        "        self.x_cell_size= 9\n",
        "    if self.y_cell_size< 0:\n",
        "        self.y_cell_size = 0\n",
        "    if self.y_cell_size> 9:\n",
        "        self.y_cell_size= 9\n",
        "    \n",
        "    #Initializing state and centroid of the object:\n",
        "    self.state=[[self.x_cell_size,self.y_cell_size]]\n",
        "    self.state_original=[[self.x_cell_size,self.y_cell_size]]\n",
        "    self.centroid_x_cell_size=self.x_cell_size+0.5\n",
        "    self.centroid_y_cell_size=self.y_cell_size+0.5\n",
        "    self.centroid_state=self.centroid_x_cell_size,self.centroid_y_cell_size\n",
        "    \n",
        "  #Function to check the overlapping of machines:\n",
        "  #If machines are overlapped, reset the position of the machine\n",
        "  def compare_elements(self,other):\n",
        "    bflag=False\n",
        "    for x in range(len(self.state)):\n",
        "      for y in range(len(other.state)):\n",
        "          if self.state[x] == other.state[y]:\n",
        "              self.x_cell_size=np.random.randint(0,10)\n",
        "              self.y_cell_size=np.random.randint(0,10)\n",
        "              self.state=[[self.x_cell_size,self.y_cell_size]]\n",
        "              self.state_original=[[self.x_cell_size,self.y_cell_size]]\n",
        "              self.centroid_x_cell_size=self.x_cell_size+0.5\n",
        "              self.centroid_y_cell_size=self.y_cell_size+0.5\n",
        "              self.centroid_state=self.centroid_x_cell_size,self.centroid_y_cell_size\n",
        "              bflag=True\n",
        "          else:\n",
        "              self.state=self.state\n",
        "              self.state_original=[[self.x_cell_size,self.y_cell_size]]\n",
        "    return self.state,bflag\n",
        "\n",
        "  #Step function:\n",
        "  def step(self,action):\n",
        "    if action==0: #move left\n",
        "        self.x_cell_size=self.x_cell_size-1\n",
        "    elif action==1: #move right\n",
        "        self.x_cell_size=self.x_cell_size+1\n",
        "    elif action==2: #move up\n",
        "        self.y_cell_size=self.y_cell_size-1\n",
        "    elif action==3: #move down\n",
        "        self.y_cell_size=self.y_cell_size+1\n",
        "    \n",
        "    #Coordinates check for out of bound after step:\n",
        "    if self.x_cell_size < 0:\n",
        "        self.x_cell_size = 0\n",
        "    if self.x_cell_size> 9:\n",
        "        self.x_cell_size= 9\n",
        "    if self.y_cell_size < 0:\n",
        "        self.y_cell_size = 0\n",
        "    if self.y_cell_size> 9:\n",
        "        self.y_cell_size= 9\n",
        "    \n",
        "    #Initializing new state and new centroid of the object based on action:\n",
        "    self.state=[[self.x_cell_size,self.y_cell_size]]\n",
        "    self.centroid_x_cell_size=self.x_cell_size+0.5\n",
        "    self.centroid_y_cell_size=self.y_cell_size+0.5\n",
        "    self.centroid_state_new=self.centroid_x_cell_size,self.centroid_y_cell_size\n",
        "    return self.state\n",
        "\n",
        "  #Function to count overlapping of machine after step:\n",
        "  #If the machines are overlapped after step function,the overlapping penalty is added to the reward\n",
        "  def com_after_step(self,other):\n",
        "    bflag=False\n",
        "    for x in range(len(self.state)):\n",
        "      for y in range(len(other.state)):\n",
        "          if self.state[x] == other.state[y]:\n",
        "              bflag=True\n",
        "    return bflag\n",
        "            \n",
        "  #Function to calculate the distance between two machines:\n",
        "  def cal_distance(self,other):\n",
        "    point_1=np.array((self.centroid_x_cell_size,self.centroid_y_cell_size),dtype=np.float64)\n",
        "    point_2=np.array((other.centroid_x_cell_size,other.centroid_y_cell_size),dtype=np.float64)\n",
        "    dist = round(np.linalg.norm(point_1-point_2),3)\n",
        "    return dist\n",
        "\n",
        "  #Function to reset the machine to original position:    \n",
        "  def reset_2(self):\n",
        "    self.x_cell_size,self.y_cell_size=self.state_original[0][0], self.state_original[0][1]\n",
        "    self.state=[[self.x_cell_size,self.y_cell_size]]\n",
        "    self.centroid_x_cell_size=self.x_cell_size+0.5\n",
        "    self.centroid_y_cell_size=self.y_cell_size+0.5\n",
        "    return self.state"
      ]
    },
    {
      "cell_type": "markdown",
      "metadata": {
        "id": "tRvoE103nEU_"
      },
      "source": [
        "#L SHAPE CLASS"
      ]
    },
    {
      "cell_type": "code",
      "execution_count": null,
      "metadata": {
        "id": "W0N2aTzDO2Ij"
      },
      "outputs": [],
      "source": [
        "class Lshape(gym.Env):\n",
        "  metadata={'render.modes':['human']}\n",
        "\n",
        "  def __init__(self):\n",
        "    #Coordinates for the block white:\n",
        "    z=np.random.randint(0,9)\n",
        "    a=np.random.randint(1,10)\n",
        "    self.x_cell_size=([z,z+1])\n",
        "    self.y_cell_size=([a-1,a])\n",
        "\n",
        "    #Coordinates check for out of bound of output window(10x10):\n",
        "    if self.x_cell_size[0] < 0:\n",
        "        self.x_cell_size[0] = 0\n",
        "    if self.x_cell_size[1] < 0:\n",
        "        self.x_cell_size[1] = 1\n",
        "    if self.x_cell_size[0]> 9:\n",
        "        self.x_cell_size[0]= 8\n",
        "    if self.x_cell_size[1]>9:\n",
        "        self.x_cell_size[1]= 9\n",
        "\n",
        "    if self.y_cell_size[1]< 1:\n",
        "        self.y_cell_size[1]= 1\n",
        "    if self.y_cell_size[0] < 0:\n",
        "        self.y_cell_size[0] = 0\n",
        "    if self.y_cell_size[1]> 9:\n",
        "        self.y_cell_size[1]= 9\n",
        "    if self.y_cell_size[0]> 8:\n",
        "        self.y_cell_size[0]= 8\n",
        "\n",
        "    #Initializing state and centroid of the object:   \n",
        "    self.centroid_x_cell_size=self.x_cell_size[0]+1\n",
        "    self.centroid_y_cell_size=self.y_cell_size[1]\n",
        "    self.state=[[self.x_cell_size[0],self.y_cell_size[0]],[self.x_cell_size[0],self.y_cell_size[1]],[self.x_cell_size[1],self.y_cell_size[1]]]\n",
        "    self.state_original=[[self.x_cell_size[0],self.y_cell_size[0]],[self.x_cell_size[0],self.y_cell_size[1]],[self.x_cell_size[1],self.y_cell_size[1]]]\n",
        "    self.centroid_state=self.centroid_x_cell_size,self.centroid_y_cell_size\n",
        "    \n",
        "  #Function to check the overlapping of machines:\n",
        "  #If machines are overlapped, reset the position of the machine\n",
        "  def compare_elements(self,other):\n",
        "    bflag=False\n",
        "    for x in range(len(self.state)):\n",
        "      for y in range(len(other.state)):\n",
        "          if self.state[x] == other.state[y]:\n",
        "              z=np.random.randint(0,9)\n",
        "              a=np.random.randint(1,10)\n",
        "              self.x_cell_size=([z,z+1])\n",
        "              self.y_cell_size=([a-1,a])\n",
        "              self.state=[[self.x_cell_size[0],self.y_cell_size[0]],[self.x_cell_size[0],self.y_cell_size[1]],[self.x_cell_size[1],self.y_cell_size[1]]]\n",
        "              self.state_original=[[self.x_cell_size[0],self.y_cell_size[0]],[self.x_cell_size[0],self.y_cell_size[1]],[self.x_cell_size[1],self.y_cell_size[1]]]\n",
        "              self.centroid_x_cell_size=self.x_cell_size[0]+1\n",
        "              self.centroid_y_cell_size=self.y_cell_size[1]\n",
        "              self.centroid_state=self.centroid_x_cell_size,self.centroid_y_cell_size\n",
        "              bflag = True\n",
        "          else:\n",
        "              self.state=self.state\n",
        "              self.state_original=[[self.x_cell_size[0],self.y_cell_size[0]],[self.x_cell_size[0],self.y_cell_size[1]],[self.x_cell_size[1],self.y_cell_size[1]]]\n",
        "    return self.state, bflag\n",
        "\n",
        "  #Step function:\n",
        "  def step(self,action):\n",
        "    if action==0: #move left\n",
        "        self.x_cell_size[0]=self.x_cell_size[0]-1\n",
        "        self.x_cell_size[1]=self.x_cell_size[1]-1\n",
        "    elif action==1: #move right\n",
        "        self.x_cell_size[0]=self.x_cell_size[0]+1\n",
        "        self.x_cell_size[1]=self.x_cell_size[1]+1\n",
        "    elif action==2: #move up\n",
        "        self.y_cell_size[0]=self.y_cell_size[0]-1\n",
        "        self.y_cell_size[1]=self.y_cell_size[1]-1\n",
        "    elif action==3: #move down\n",
        "        self.y_cell_size[0]=self.y_cell_size[0]+1\n",
        "        self.y_cell_size[1]=self.y_cell_size[1]+1\n",
        "    \n",
        "    #Coordinates check for out of bound after step:\n",
        "    if self.x_cell_size[0] < 0:\n",
        "        self.x_cell_size[0] = 0\n",
        "    if self.x_cell_size[1] <1:\n",
        "        self.x_cell_size[1] = 1\n",
        "    if self.x_cell_size[0]> 8:\n",
        "        self.x_cell_size[0]= 8\n",
        "    if self.x_cell_size[1]>9:\n",
        "        self.x_cell_size[1]= 9\n",
        "\n",
        "    if self.y_cell_size[0]< 0:\n",
        "        self.y_cell_size[0]= 0\n",
        "    if self.y_cell_size[1] < 1:\n",
        "        self.y_cell_size[1] = 1\n",
        "    if self.y_cell_size[0]> 8:\n",
        "        self.y_cell_size[0]= 8\n",
        "    if self.y_cell_size[1]> 9:\n",
        "        self.y_cell_size[1]= 9\n",
        "\n",
        "    #Initializing new state and new centroid of the object based on action:\n",
        "    self.state=[[self.x_cell_size[0],self.y_cell_size[0]],[self.x_cell_size[0],self.y_cell_size[1]],[self.x_cell_size[1],self.y_cell_size[1]]]\n",
        "    self.centroid_x_cell_size=self.x_cell_size[0]+1\n",
        "    self.centroid_y_cell_size=self.y_cell_size[1]\n",
        "    self.centroid_state_new=self.centroid_x_cell_size,self.centroid_y_cell_size\n",
        "    return self.state\n",
        "\n",
        "  #Function to count overlapping of machine after step:\n",
        "  #If the machines are overlapped after step function,the overlapping penalty is added to the reward\n",
        "  def com_after_step(self,other):\n",
        "    bflag=False\n",
        "    for x in range(len(self.state)):\n",
        "      for y in range(len(other.state)):\n",
        "          if self.state[x] == other.state[y]:\n",
        "              bflag=True\n",
        "    return bflag\n",
        "\n",
        "  #Function to calculate the distance between two machines:\n",
        "  def cal_distance(self,other):\n",
        "    point_1=np.array((self.centroid_x_cell_size,self.centroid_y_cell_size),dtype=np.float64)\n",
        "    point_2=np.array((other.centroid_x_cell_size,other.centroid_y_cell_size),dtype=np.float64)\n",
        "    dist = round(np.linalg.norm(point_1-point_2),3)\n",
        "    return dist\n",
        "  \n",
        "  #Function to reset the machine to original position:\n",
        "  def reset_2(self):\n",
        "    self.x_cell_size[0],self.y_cell_size[0]=self.state_original[0][0], self.state_original[0][1]\n",
        "    self.x_cell_size[0],self.y_cell_size[1]=self.state_original[1][0], self.state_original[1][1]\n",
        "    self.x_cell_size[1],self.y_cell_size[1]=self.state_original[2][0], self.state_original[2][1]\n",
        "    self.state=[[self.x_cell_size[0],self.y_cell_size[0]],[self.x_cell_size[0],self.y_cell_size[1]],[self.x_cell_size[1],self.y_cell_size[1]]]\n",
        "    self.centroid_x_cell_size=self.x_cell_size[0]+1\n",
        "    self.centroid_y_cell_size=self.y_cell_size[1]\n",
        "    return self.state"
      ]
    },
    {
      "cell_type": "markdown",
      "metadata": {
        "id": "LzLRMyXUn2SK"
      },
      "source": [
        "#BIG SQUARE"
      ]
    },
    {
      "cell_type": "code",
      "execution_count": null,
      "metadata": {
        "id": "KR6jZqcTO5Iz"
      },
      "outputs": [],
      "source": [
        "class Big_square(gym.Env):\n",
        "  metadata={'render.modes':['human']}\n",
        "\n",
        "  def __init__(self):\n",
        "\n",
        "    #Coordinates for the block lime\n",
        "    z=np.random.randint(0,9)\n",
        "    a=np.random.randint(1,10)\n",
        "    self.x_cell_size=([z,z+1])\n",
        "    self.y_cell_size=([a-1,a])\n",
        "\n",
        "    #Coordinates check for out of bound of output window(10x10):\n",
        "    if self.x_cell_size[0] < 0:\n",
        "        self.x_cell_size[0] = 0\n",
        "    if self.x_cell_size[1] < 1:\n",
        "        self.x_cell_size[1] = 1\n",
        "    if self.x_cell_size[0]> 9:\n",
        "        self.x_cell_size[0]= 8\n",
        "    if self.x_cell_size[1]>9:\n",
        "        self.x_cell_size[1]= 9\n",
        "\n",
        "    if self.y_cell_size[1]< 1:\n",
        "        self.y_cell_size[1]= 1\n",
        "    if self.y_cell_size[0] < 0:\n",
        "        self.y_cell_size[0] = 0\n",
        "    if self.y_cell_size[1]> 9:\n",
        "        self.y_cell_size[1]= 9\n",
        "    if self.y_cell_size[0]> 8:\n",
        "        self.y_cell_size[0]= 8\n",
        "\n",
        "    #Initializing state and centroid of the object:\n",
        "    self.centroid_x_cell_size=self.x_cell_size[0]+1\n",
        "    self.centroid_y_cell_size=self.y_cell_size[1]\n",
        "    self.state=[[self.x_cell_size[0],self.y_cell_size[0]],[self.x_cell_size[0],self.y_cell_size[1]],[self.x_cell_size[1],self.y_cell_size[0]],[self.x_cell_size[1],self.y_cell_size[1]]]\n",
        "    self.state_original = [[self.x_cell_size[0],self.y_cell_size[0]],[self.x_cell_size[0],self.y_cell_size[1]],[self.x_cell_size[1],self.y_cell_size[0]],[self.x_cell_size[1],self.y_cell_size[1]]]\n",
        "    self.centroid_state=self.centroid_x_cell_size,self.centroid_y_cell_size\n",
        "    \n",
        "  #Function to check the overlapping of machines:\n",
        "  #If machines are overlapped, reset the position of the machine.\n",
        "  def compare_elements(self,other):\n",
        "    bflag=False\n",
        "    for x in range(len(self.state)):\n",
        "      for y in range(len(other.state)):\n",
        "          if self.state[x] == other.state[y]:\n",
        "              z=np.random.randint(0,9)\n",
        "              a=np.random.randint(1,10)\n",
        "              self.x_cell_size=([z,z+1])\n",
        "              self.y_cell_size=([a-1,a])\n",
        "              self.state=[[self.x_cell_size[0],self.y_cell_size[0]],[self.x_cell_size[0],self.y_cell_size[1]],[self.x_cell_size[1],self.y_cell_size[0]],[self.x_cell_size[1],self.y_cell_size[1]]]\n",
        "              self.state_original=[[self.x_cell_size[0],self.y_cell_size[0]],[self.x_cell_size[0],self.y_cell_size[1]],[self.x_cell_size[1],self.y_cell_size[0]],[self.x_cell_size[1],self.y_cell_size[1]]]\n",
        "              self.centroid_x_cell_size=self.x_cell_size[0]+1\n",
        "              self.centroid_y_cell_size=self.y_cell_size[1]\n",
        "              self.centroid_state=self.centroid_x_cell_size,self.centroid_y_cell_size\n",
        "              bflag=True\n",
        "          else:\n",
        "              self.state=self.state\n",
        "              self.state_original=[[self.x_cell_size[0],self.y_cell_size[0]],[self.x_cell_size[0],self.y_cell_size[1]],[self.x_cell_size[1],self.y_cell_size[0]],[self.x_cell_size[1],self.y_cell_size[1]]]\n",
        "    return self.state,bflag\n",
        "\n",
        "  #Step function:\n",
        "  def step(self,action):\n",
        "    if action==0: #move left\n",
        "        self.x_cell_size[0]=self.x_cell_size[0]-1\n",
        "        self.x_cell_size[1]=self.x_cell_size[1]-1\n",
        "    elif action==1: #move right\n",
        "        self.x_cell_size[0]=self.x_cell_size[0]+1\n",
        "        self.x_cell_size[1]=self.x_cell_size[1]+1\n",
        "    elif action==2: #move up\n",
        "        self.y_cell_size[0]=self.y_cell_size[0]-1\n",
        "        self.y_cell_size[1]=self.y_cell_size[1]-1\n",
        "    elif action==3: #move down\n",
        "        self.y_cell_size[0]=self.y_cell_size[0]+1\n",
        "        self.y_cell_size[1]=self.y_cell_size[1]+1\n",
        "    \n",
        "    #Coordinates check for out of bound after step:\n",
        "    if self.x_cell_size[0] < 0:\n",
        "        self.x_cell_size[0] = 0\n",
        "    if self.x_cell_size[1] < 1:\n",
        "        self.x_cell_size[1] = 1\n",
        "    if self.x_cell_size[0]> 8:\n",
        "        self.x_cell_size[0]= 8\n",
        "    if self.x_cell_size[1]>9:\n",
        "        self.x_cell_size[1]= 9\n",
        "\n",
        "    if self.y_cell_size[1]< 1:\n",
        "        self.y_cell_size[1]= 1\n",
        "    if self.y_cell_size[0] < 0:\n",
        "        self.y_cell_size[0] = 0\n",
        "    if self.y_cell_size[1]> 9:\n",
        "        self.y_cell_size[1]= 9\n",
        "    if self.y_cell_size[0]> 8:\n",
        "        self.y_cell_size[0]= 8\n",
        "    \n",
        "    #Initializing new state and new centroid of the object based on action:\n",
        "    self.state=[[self.x_cell_size[0],self.y_cell_size[0]],[self.x_cell_size[0],self.y_cell_size[1]],[self.x_cell_size[1],self.y_cell_size[0]],[self.x_cell_size[1],self.y_cell_size[1]]]\n",
        "    self.centroid_x_cell_size=self.x_cell_size[0]+1\n",
        "    self.centroid_y_cell_size=self.y_cell_size[1]\n",
        "    self.centroid_state_new=self.centroid_x_cell_size,self.centroid_y_cell_size\n",
        "    return self.state\n",
        "\n",
        "  #Function to count overlapping of machine after step:\n",
        "  #If the machines are overlapped after step function,the overlapping penalty is added to the reward\n",
        "  def com_after_step(self,other):\n",
        "    bflag=False\n",
        "    for x in range(len(self.state)):\n",
        "      for y in range(len(other.state)):\n",
        "          if self.state[x] == other.state[y]:\n",
        "              bflag=True     \n",
        "    return bflag        \n",
        "        \n",
        "  ##Function to calculate the distance between two machines:\n",
        "  def cal_distance(self,other):\n",
        "    point_1=np.array((self.centroid_x_cell_size,self.centroid_y_cell_size),dtype=np.float64)\n",
        "    point_2=np.array((other.centroid_x_cell_size,other.centroid_y_cell_size),dtype=np.float64)\n",
        "    dist=round(np.linalg.norm(point_1-point_2),3)\n",
        "    return dist\n",
        "\n",
        "  #Function to reset the machine to original position:\n",
        "  def reset_2(self):   \n",
        "    self.x_cell_size[0],self.y_cell_size[0] = self.state_original[0][0], self.state_original[0][1]\n",
        "    self.x_cell_size[0],self.y_cell_size[1] = self.state_original[1][0], self.state_original[1][1]\n",
        "    self.x_cell_size[1],self.y_cell_size[0] = self.state_original[2][0], self.state_original[2][1]\n",
        "    self.x_cell_size[1],self.y_cell_size[1] = self.state_original[3][0], self.state_original[3][1]\n",
        "    self.centroid_x_cell_size=self.x_cell_size[0]+1\n",
        "    self.centroid_y_cell_size=self.y_cell_size[1]\n",
        "    self.state=[[self.x_cell_size[0],self.y_cell_size[0]],[self.x_cell_size[0],self.y_cell_size[1]],[self.x_cell_size[1],self.y_cell_size[0]],[self.x_cell_size[1],self.y_cell_size[1]]]\n",
        "    return self.state\n"
      ]
    },
    {
      "cell_type": "markdown",
      "metadata": {
        "id": "XFTqyuhpN3CX"
      },
      "source": [
        "#CUSTOM ENVIRONMENT CLASS\n"
      ]
    },
    {
      "cell_type": "code",
      "execution_count": null,
      "metadata": {
        "id": "oRXmZxpXlmBV"
      },
      "outputs": [],
      "source": [
        "class CustomEnv(gym.Env):\n",
        "  metadata={'render.modes':['human']}\n",
        "  RETURN_IMAGES = True\n",
        "\n",
        "  def __init__(self,wid_lst):\n",
        "    #List to store the machines as per the user selection and initializing all the user selection machine in an environment:\n",
        "    self.Object_List=[]\n",
        "    for j in wid_lst:\n",
        "      if(j == 0):\n",
        "        self.Object_List.append(Horiz_Rectangle())\n",
        "      elif(j == 1):\n",
        "        self.Object_List.append(Vert_Rectangle())\n",
        "      elif(j == 2):\n",
        "        self.Object_List.append(Square())\n",
        "      elif(j == 3):\n",
        "        self.Object_List.append(Lshape())\n",
        "      elif(j == 4):\n",
        "        self.Object_List.append(Big_square())\n",
        "\n",
        "    #initializing 4 discrete actions:\n",
        "    #4 discrete action 0-LEFT,1-RIGHT,2-UP,3-DOWN\n",
        "    self.action_space=spaces.Discrete(4)\n",
        "\n",
        "    #initializing observation spaces:\n",
        "    self.observation_space=spaces.Box(low=0,high=255,shape=(10,10,3),dtype=np.uint8)\n",
        "\n",
        "    #Nested function to prevent all the machines from overlapping during initial initializing in environment:\n",
        "    def compare_elements(self):\n",
        "      for i in range(len(self.Object_List)):\n",
        "        temp=0\n",
        "        while temp!=i:\n",
        "          temp=0\n",
        "          for j in range(i):\n",
        "            t2, oRes=self.Object_List[i].compare_elements(self.Object_List[j])\n",
        "            if oRes==True:\n",
        "              pass\n",
        "            else:\n",
        "              temp+=1\n",
        "      return temp,oRes\n",
        "\n",
        "    compare_elements(self)\n",
        "\n",
        "  #Step Function:\n",
        "  def step(self,action):\n",
        "    object_move=random.sample(self.Object_List,1)\n",
        "    object_move[0].step(action)\n",
        "\n",
        "    AddL=[]\n",
        "    for i in range(len(self.Object_List)):\n",
        "      emL=[0 for i in range(len(self.Object_List))]\n",
        "      for j in range(i+1,len(self.Object_List)):\n",
        "        DisR=self.Object_List[i].cal_distance(self.Object_List[j])\n",
        "        emL[j]=DisR\n",
        "      AddL.append(emL)\n",
        "    Dist=np.array(AddL)\n",
        "\n",
        "    flow=np.array([[0,50,0,15,16,34],[0,0,28,11,6,0],[0,0,0,45,0,10],[0,0,0,0,0,15],[0,0,0,0,0,12],[0,0,0,0,0,0]])\n",
        "\n",
        "    #Calculating Cost Matrix:\n",
        "    Cost=flow*Dist\n",
        "\n",
        "    #Calculating Sum of cost matrix elements:\n",
        "    sum_cost=round(np.sum(Cost),3)\n",
        "\n",
        "    info={}\n",
        "    count=0\n",
        "    for i in range(len(self.Object_List)):\n",
        "      for j in range(i):\n",
        "        aRes=self.Object_List[i].com_after_step(self.Object_List[j])\n",
        "        if(aRes==True):\n",
        "          count=count+1\n",
        "\n",
        "    #Defining Reward structure:\n",
        "    if((count==0) and sum_cost<=550):\n",
        "      reward=1\n",
        "      done=True\n",
        "    elif(count!=0):\n",
        "      reward=count*(-2)\n",
        "      done=False\n",
        "    else: \n",
        "      reward=-1\n",
        "      done=False\n",
        "\n",
        "    if self.RETURN_IMAGES:\n",
        "      new_observation = np.array(self.getOutputWindow())\n",
        "\n",
        "    return new_observation,reward,done,info\n",
        "  \n",
        "  #Function to reset the environment:\n",
        "  def reset(self):\n",
        "    for i in self.Object_List:\n",
        "      i.reset_2()\n",
        "\n",
        "    if self.RETURN_IMAGES:\n",
        "      observation = np.array(self.getOutputWindow())\n",
        "\n",
        "    return observation\n",
        "\n",
        "  #Function to get the output Window:\n",
        "  def getOutputWindow(self):    \n",
        "    output_window=np.zeros((10,10,3),dtype=np.uint8)\n",
        "    for objItr in self.Object_List:      \n",
        "      if isinstance(objItr, Horiz_Rectangle):\n",
        "        output_window[objItr.y_cell_size][objItr.x_cell_size]=0,255,0\n",
        "      elif isinstance(objItr, Vert_Rectangle):\n",
        "        output_window[objItr.y_cell_size][objItr.x_cell_size]=255,0,0\n",
        "        output_window[objItr.y1_cell_size][objItr.x_cell_size]=255,0,0\n",
        "      elif isinstance(objItr, Square):\n",
        "        output_window[objItr.y_cell_size][objItr.x_cell_size]=0,0,255\n",
        "      elif isinstance(objItr, Lshape):\n",
        "        output_window[objItr.y_cell_size[1]][objItr.x_cell_size]=255,255,255\n",
        "        output_window[objItr.y_cell_size[0]][objItr.x_cell_size[0]]=255,255,255\n",
        "      elif isinstance(objItr, Big_square):\n",
        "        output_window[objItr.y_cell_size[1]][objItr.x_cell_size]=255,255,0\n",
        "        output_window[objItr.y_cell_size[0]][objItr.x_cell_size]=255,255,0\n",
        "\n",
        "    img=Image.fromarray(output_window)\n",
        "    return img\n",
        "\n",
        "  #Function to render the environment:\n",
        "  def render(self,mode='human'):\n",
        "    img_ren=self.getOutputWindow()\n",
        "    output_img=img_ren.resize((200,200),resample=Image.BOX)\n",
        "    cv2_imshow(np.array(output_img))\n",
        "  \n",
        "  def close(self):\n",
        "    pass"
      ]
    },
    {
      "cell_type": "markdown",
      "metadata": {
        "id": "Nj6mrBPQ8V-3"
      },
      "source": [
        "#USER INPUT OF MACHINES AND CALLING OBJECT OF A CUSTOM ENVIRONMENT CLASS"
      ]
    },
    {
      "cell_type": "markdown",
      "metadata": {
        "id": "WEwuS4rHAI_o"
      },
      "source": [
        "Creating Widget for user input of machine layout in custom environment"
      ]
    },
    {
      "cell_type": "code",
      "execution_count": null,
      "metadata": {
        "colab": {
          "base_uri": "https://localhost:8080/",
          "height": 216,
          "referenced_widgets": [
            "d748d905e14942daae5669a851d42088",
            "ead56c292b614dd5abe98287cfc1e2c2",
            "83b839d6608c465a9d8f31beb75e7bfd",
            "8619b1325a42460c9b0d863461aee1cf",
            "c55f58e327304ab895fa818c5ca90691",
            "65859928dacf46d7887ef68faab711f2",
            "fe3c5b48a86f4b5997736499e243965a",
            "ae954de72afd4936a09bc981fe085736",
            "aadcab1456b84945b26bcca248f5cca4",
            "bcd95562241f44e596f84e6de49e40a8",
            "c1449cfb5ae14bd9a8333ba869719d1f",
            "4c57fa0a11b44a6e98c9b38af1bcd212",
            "21a84854f8d244e38657983500aca2b3",
            "081314947b0446a6b378cc419d412744",
            "b906f21aea234dbab7feab4104bbd3a4",
            "888e871d134a49d9b226c620e1a6653d",
            "2ddbd8b769d24c7cbdb2e8f33f31757f",
            "b5c2909677e5492391011250b9f3b67e"
          ]
        },
        "id": "sfsrvLeqaqy8",
        "outputId": "1be8172a-c0ad-428c-a13b-796c14302161"
      },
      "outputs": [
        {
          "name": "stdout",
          "output_type": "stream",
          "text": [
            "Enter the number of machines: 6\n"
          ]
        },
        {
          "data": {
            "application/vnd.jupyter.widget-view+json": {
              "model_id": "d748d905e14942daae5669a851d42088",
              "version_major": 2,
              "version_minor": 0
            },
            "text/plain": [
              "Dropdown(description='Choose the machines:', options=(('Horiz_Rectangle', 0), ('Vert_Rectangle', 1), ('Square'…"
            ]
          },
          "metadata": {},
          "output_type": "display_data"
        },
        {
          "data": {
            "application/vnd.jupyter.widget-view+json": {
              "model_id": "8619b1325a42460c9b0d863461aee1cf",
              "version_major": 2,
              "version_minor": 0
            },
            "text/plain": [
              "Dropdown(description='Choose the machines:', options=(('Horiz_Rectangle', 0), ('Vert_Rectangle', 1), ('Square'…"
            ]
          },
          "metadata": {},
          "output_type": "display_data"
        },
        {
          "data": {
            "application/vnd.jupyter.widget-view+json": {
              "model_id": "fe3c5b48a86f4b5997736499e243965a",
              "version_major": 2,
              "version_minor": 0
            },
            "text/plain": [
              "Dropdown(description='Choose the machines:', options=(('Horiz_Rectangle', 0), ('Vert_Rectangle', 1), ('Square'…"
            ]
          },
          "metadata": {},
          "output_type": "display_data"
        },
        {
          "data": {
            "application/vnd.jupyter.widget-view+json": {
              "model_id": "bcd95562241f44e596f84e6de49e40a8",
              "version_major": 2,
              "version_minor": 0
            },
            "text/plain": [
              "Dropdown(description='Choose the machines:', options=(('Horiz_Rectangle', 0), ('Vert_Rectangle', 1), ('Square'…"
            ]
          },
          "metadata": {},
          "output_type": "display_data"
        },
        {
          "data": {
            "application/vnd.jupyter.widget-view+json": {
              "model_id": "21a84854f8d244e38657983500aca2b3",
              "version_major": 2,
              "version_minor": 0
            },
            "text/plain": [
              "Dropdown(description='Choose the machines:', options=(('Horiz_Rectangle', 0), ('Vert_Rectangle', 1), ('Square'…"
            ]
          },
          "metadata": {},
          "output_type": "display_data"
        },
        {
          "data": {
            "application/vnd.jupyter.widget-view+json": {
              "model_id": "888e871d134a49d9b226c620e1a6653d",
              "version_major": 2,
              "version_minor": 0
            },
            "text/plain": [
              "Dropdown(description='Choose the machines:', options=(('Horiz_Rectangle', 0), ('Vert_Rectangle', 1), ('Square'…"
            ]
          },
          "metadata": {},
          "output_type": "display_data"
        }
      ],
      "source": [
        "user_input=int(input(\"Enter the number of machines: \"))\n",
        "wid_lst = []\n",
        "for i in range(user_input):\n",
        "  wid_lst.append(widgets.Dropdown(\n",
        "        options=[('Horiz_Rectangle',0),('Vert_Rectangle',1),('Square', 2),('Lshape',3),('Big_square',4)],\n",
        "        value=None,\n",
        "        description='Choose the machines:',\n",
        "        disabled=False,\n",
        "        ))\n",
        "for i in wid_lst:\n",
        "  display(i)"
      ]
    },
    {
      "cell_type": "markdown",
      "metadata": {
        "id": "AOISbSVD8nI6"
      },
      "source": [
        "\n",
        "Creating object of a custom Environment and calling it."
      ]
    },
    {
      "cell_type": "code",
      "execution_count": null,
      "metadata": {
        "colab": {
          "base_uri": "https://localhost:8080/"
        },
        "id": "yxEtg2fmauv2",
        "outputId": "8d1c67ba-143a-45ec-9d26-e9c688cc29d8"
      },
      "outputs": [
        {
          "name": "stdout",
          "output_type": "stream",
          "text": [
            "[0, 1, 2, 2, 3, 4]\n"
          ]
        }
      ],
      "source": [
        "val_lst = []\n",
        "for i in wid_lst:\n",
        "  val_lst.append(i.value)\n",
        "print(val_lst)\n",
        "finalobj=CustomEnv(val_lst)"
      ]
    },
    {
      "cell_type": "markdown",
      "metadata": {
        "id": "I4nFPhPR9Eg0"
      },
      "source": [
        "#Manually Episode Run"
      ]
    },
    {
      "cell_type": "markdown",
      "metadata": {
        "id": "zB3ZuMrqB_7f"
      },
      "source": [
        "Checking custom environment by running episode manually"
      ]
    },
    {
      "cell_type": "code",
      "execution_count": null,
      "metadata": {
        "id": "VcRTlg8wbJCL"
      },
      "outputs": [],
      "source": [
        "finalobj.render()\n",
        "print(finalobj.Object_List[0].state)\n",
        "print(finalobj.Object_List[1].state)\n",
        "print(finalobj.Object_List[2].state)\n",
        "print(finalobj.Object_List[3].state)\n",
        "print(finalobj.Object_List[4].state)\n",
        "print(finalobj.Object_List[5].state)\n",
        "action=finalobj.action_space.sample()\n",
        "print(\"The action is:\",action)\n",
        "new_observation,reward,done,info=finalobj.step(action)\n",
        "finalobj.render()\n",
        "print(finalobj.Object_List[0].state)\n",
        "print(finalobj.Object_List[1].state)\n",
        "print(finalobj.Object_List[2].state)\n",
        "print(finalobj.Object_List[3].state)\n",
        "print(finalobj.Object_List[4].state)\n",
        "print(finalobj.Object_List[5].state)\n",
        "print(\"The reward is:\",reward)\n",
        "finalobj.reset()\n",
        "finalobj.render()\n",
        "print(finalobj.Object_List[0].state)\n",
        "print(finalobj.Object_List[1].state)\n",
        "print(finalobj.Object_List[2].state)\n",
        "print(finalobj.Object_List[3].state)\n",
        "print(finalobj.Object_List[4].state)\n",
        "print(finalobj.Object_List[5].state)"
      ]
    },
    {
      "cell_type": "markdown",
      "metadata": {
        "id": "IXff-PqY_rGf"
      },
      "source": [
        "Run the environment manually for 10 episode"
      ]
    },
    {
      "cell_type": "code",
      "execution_count": null,
      "metadata": {
        "colab": {
          "base_uri": "https://localhost:8080/"
        },
        "id": "ET1QWvbXroCq",
        "outputId": "9b3bfc7e-94ac-42b2-a01d-1c301192f65e"
      },
      "outputs": [
        {
          "name": "stdout",
          "output_type": "stream",
          "text": [
            "Episode:1 Score:-27045\n",
            "Episode:2 Score:-18157\n",
            "Episode:3 Score:-5148\n",
            "Episode:4 Score:-3764\n",
            "Episode:5 Score:-26979\n",
            "Episode:6 Score:-174663\n",
            "Episode:7 Score:-9693\n",
            "Episode:8 Score:-91025\n",
            "Episode:9 Score:-43920\n",
            "Episode:10 Score:-15424\n"
          ]
        }
      ],
      "source": [
        "episodes=10\n",
        "L = []\n",
        "for episode in range(1,episodes+1):\n",
        "  t = []\n",
        "  finalobj.reset()\n",
        "  done=False\n",
        "  score=0\n",
        "  t.append(finalobj.getOutputWindow())\n",
        "  while not done:\n",
        "    #finalobj.render()\n",
        "    action =finalobj.action_space.sample()\n",
        "    new_observation,reward,done,info=finalobj.step(action)\n",
        "    t.append(finalobj.getOutputWindow())\n",
        "    score=score+reward\n",
        "  L.append(t)\n",
        "  print('Episode:{} Score:{}'.format(episode,score))"
      ]
    },
    {
      "cell_type": "markdown",
      "metadata": {
        "id": "iozp0Rpm_TYu"
      },
      "source": [
        "Link Google drive with the collab for storing the images and convert it to the GIFS."
      ]
    },
    {
      "cell_type": "code",
      "execution_count": null,
      "metadata": {
        "colab": {
          "base_uri": "https://localhost:8080/"
        },
        "id": "D2hkY0A87N4F",
        "outputId": "57bb05df-14dc-4c08-9ba9-baf4df2c95ef"
      },
      "outputs": [
        {
          "name": "stdout",
          "output_type": "stream",
          "text": [
            "Drive already mounted at /content/gdrive; to attempt to forcibly remount, call drive.mount(\"/content/gdrive\", force_remount=True).\n"
          ]
        }
      ],
      "source": [
        "render_images=[]\n",
        "for i in range(len(L[0])):\n",
        "  output_img=L[0][i].resize((200,200),resample=Image.BOX)\n",
        "  render_images.append(output_img)\n",
        "\n",
        "drive.mount('/content/gdrive')\n",
        "os.chdir(\"/content/gdrive/MyDrive/29_07_2022_12.30PM\")\n",
        "sys.path.append(\"/content/gdrive/MyDrive/29_07_2022_12.30PM\")\n",
        "\n",
        "images=[]\n",
        "for i in range(len(render_images)):\n",
        "  cv.imwrite(\"abc_%d.png\"%i,np.array(render_images[i]))\n",
        "  images.append(imageio.imread(\"abc_%d.png\"%i))\n",
        "imageio.mimsave('/content/gdrive/MyDrive/29_07_2022_12.30PM/movie5.gif', images,fps=len(render_images))"
      ]
    },
    {
      "cell_type": "markdown",
      "metadata": {
        "id": "cMGJoZks_jQC"
      },
      "source": [
        "Download the GIFS created before."
      ]
    },
    {
      "cell_type": "code",
      "execution_count": null,
      "metadata": {
        "colab": {
          "base_uri": "https://localhost:8080/",
          "height": 17
        },
        "id": "Uf9Scmrv70jO",
        "outputId": "95d54c7e-7edf-4216-d9d9-20856b055884"
      },
      "outputs": [
        {
          "data": {
            "application/javascript": [
              "\n",
              "    async function download(id, filename, size) {\n",
              "      if (!google.colab.kernel.accessAllowed) {\n",
              "        return;\n",
              "      }\n",
              "      const div = document.createElement('div');\n",
              "      const label = document.createElement('label');\n",
              "      label.textContent = `Downloading \"${filename}\": `;\n",
              "      div.appendChild(label);\n",
              "      const progress = document.createElement('progress');\n",
              "      progress.max = size;\n",
              "      div.appendChild(progress);\n",
              "      document.body.appendChild(div);\n",
              "\n",
              "      const buffers = [];\n",
              "      let downloaded = 0;\n",
              "\n",
              "      const channel = await google.colab.kernel.comms.open(id);\n",
              "      // Send a message to notify the kernel that we're ready.\n",
              "      channel.send({})\n",
              "\n",
              "      for await (const message of channel.messages) {\n",
              "        // Send a message to notify the kernel that we're ready.\n",
              "        channel.send({})\n",
              "        if (message.buffers) {\n",
              "          for (const buffer of message.buffers) {\n",
              "            buffers.push(buffer);\n",
              "            downloaded += buffer.byteLength;\n",
              "            progress.value = downloaded;\n",
              "          }\n",
              "        }\n",
              "      }\n",
              "      const blob = new Blob(buffers, {type: 'application/binary'});\n",
              "      const a = document.createElement('a');\n",
              "      a.href = window.URL.createObjectURL(blob);\n",
              "      a.download = filename;\n",
              "      div.appendChild(a);\n",
              "      a.click();\n",
              "      div.remove();\n",
              "    }\n",
              "  "
            ],
            "text/plain": [
              "<IPython.core.display.Javascript object>"
            ]
          },
          "metadata": {},
          "output_type": "display_data"
        },
        {
          "data": {
            "application/javascript": [
              "download(\"download_bf8195bf-7858-41c8-8e50-76afd1cae27e\", \"movie5.gif\", 13010047)"
            ],
            "text/plain": [
              "<IPython.core.display.Javascript object>"
            ]
          },
          "metadata": {},
          "output_type": "display_data"
        }
      ],
      "source": [
        " files.download('/content/gdrive/MyDrive/29_07_2022_12.30PM/movie5.gif')"
      ]
    },
    {
      "cell_type": "markdown",
      "metadata": {
        "id": "ySRp0Bj4r8wZ"
      },
      "source": [
        "#DEEP -Q NETWORK-Using stable baseline modules\n"
      ]
    },
    {
      "cell_type": "markdown",
      "metadata": {
        "id": "zISuiblDsFMz"
      },
      "source": [
        "Importing modules for stable baseline"
      ]
    },
    {
      "cell_type": "code",
      "execution_count": null,
      "metadata": {
        "id": "t-8bFrxdPhfE"
      },
      "outputs": [],
      "source": [
        "!pip install stable-baselines3[extra]"
      ]
    },
    {
      "cell_type": "code",
      "execution_count": null,
      "metadata": {
        "id": "VwhikwMKr5ew"
      },
      "outputs": [],
      "source": [
        "import stable_baselines3\n",
        "stable_baselines3.__version__\n",
        "from stable_baselines3.common.env_checker import check_env\n",
        "from stable_baselines3 import DQN"
      ]
    },
    {
      "cell_type": "markdown",
      "metadata": {
        "id": "qV9GHxl6sKe-"
      },
      "source": [
        "Checking the custom environment"
      ]
    },
    {
      "cell_type": "code",
      "execution_count": null,
      "metadata": {
        "id": "QWMlG1d1PMID"
      },
      "outputs": [],
      "source": [
        "finalobj=CustomEnv(val_lst)\n",
        "# It will check your custom environment and output additional warnings if needed\n",
        "check_env(finalobj)"
      ]
    },
    {
      "cell_type": "markdown",
      "metadata": {
        "id": "83k-CZJ_sTfb"
      },
      "source": [
        "DQN-AGENT Model-Training"
      ]
    },
    {
      "cell_type": "code",
      "execution_count": null,
      "metadata": {
        "colab": {
          "base_uri": "https://localhost:8080/"
        },
        "id": "F8nl8jFqRGg2",
        "outputId": "a6cd933d-717b-4575-b386-653937f3b3a7"
      },
      "outputs": [
        {
          "name": "stdout",
          "output_type": "stream",
          "text": [
            "Using cpu device\n",
            "Wrapping the env with a `Monitor` wrapper\n",
            "Wrapping the env in a DummyVecEnv.\n",
            "Wrapping the env in a VecTransposeImage.\n",
            "Logging to ./DQN_Machinelayout_tensorboard/DQN_6\n",
            "----------------------------------\n",
            "| rollout/            |          |\n",
            "|    ep_len_mean      | 1.44e+04 |\n",
            "|    ep_rew_mean      | -2.5e+04 |\n",
            "|    exploration_rate | 0.986    |\n",
            "| time/               |          |\n",
            "|    episodes         | 1        |\n",
            "|    fps              | 1611     |\n",
            "|    time_elapsed     | 8        |\n",
            "|    total_timesteps  | 14412    |\n",
            "----------------------------------\n",
            "-----------------------------------\n",
            "| rollout/            |           |\n",
            "|    ep_len_mean      | 7.63e+03  |\n",
            "|    ep_rew_mean      | -1.32e+04 |\n",
            "|    exploration_rate | 0.986     |\n",
            "| time/               |           |\n",
            "|    episodes         | 2         |\n",
            "|    fps              | 1613      |\n",
            "|    time_elapsed     | 9         |\n",
            "|    total_timesteps  | 15253     |\n",
            "-----------------------------------\n",
            "-----------------------------------\n",
            "| rollout/            |           |\n",
            "|    ep_len_mean      | 1.68e+04  |\n",
            "|    ep_rew_mean      | -2.86e+04 |\n",
            "|    exploration_rate | 0.952     |\n",
            "| time/               |           |\n",
            "|    episodes         | 3         |\n",
            "|    fps              | 1635      |\n",
            "|    time_elapsed     | 30        |\n",
            "|    total_timesteps  | 50467     |\n",
            "| train/              |           |\n",
            "|    learning_rate    | 0.0001    |\n",
            "|    loss             | 0.918     |\n",
            "|    n_updates        | 116       |\n",
            "-----------------------------------\n",
            "-----------------------------------\n",
            "| rollout/            |           |\n",
            "|    ep_len_mean      | 1.53e+04  |\n",
            "|    ep_rew_mean      | -2.61e+04 |\n",
            "|    exploration_rate | 0.942     |\n",
            "| time/               |           |\n",
            "|    episodes         | 4         |\n",
            "|    fps              | 1323      |\n",
            "|    time_elapsed     | 46        |\n",
            "|    total_timesteps  | 61398     |\n",
            "| train/              |           |\n",
            "|    learning_rate    | 0.0001    |\n",
            "|    loss             | 0.407     |\n",
            "|    n_updates        | 2849      |\n",
            "-----------------------------------\n",
            "-----------------------------------\n",
            "| rollout/            |           |\n",
            "|    ep_len_mean      | 1.63e+04  |\n",
            "|    ep_rew_mean      | -2.79e+04 |\n",
            "|    exploration_rate | 0.923     |\n",
            "| time/               |           |\n",
            "|    episodes         | 5         |\n",
            "|    fps              | 1073      |\n",
            "|    time_elapsed     | 75        |\n",
            "|    total_timesteps  | 81564     |\n",
            "| train/              |           |\n",
            "|    learning_rate    | 0.0001    |\n",
            "|    loss             | 0.48      |\n",
            "|    n_updates        | 7890      |\n",
            "-----------------------------------\n",
            "-----------------------------------\n",
            "| rollout/            |           |\n",
            "|    ep_len_mean      | 1.36e+04  |\n",
            "|    ep_rew_mean      | -2.32e+04 |\n",
            "|    exploration_rate | 0.922     |\n",
            "| time/               |           |\n",
            "|    episodes         | 6         |\n",
            "|    fps              | 1072      |\n",
            "|    time_elapsed     | 76        |\n",
            "|    total_timesteps  | 81635     |\n",
            "| train/              |           |\n",
            "|    learning_rate    | 0.0001    |\n",
            "|    loss             | 0.45      |\n",
            "|    n_updates        | 7908      |\n",
            "-----------------------------------\n",
            "-----------------------------------\n",
            "| rollout/            |           |\n",
            "|    ep_len_mean      | 1.21e+04  |\n",
            "|    ep_rew_mean      | -2.08e+04 |\n",
            "|    exploration_rate | 0.919     |\n",
            "| time/               |           |\n",
            "|    episodes         | 7         |\n",
            "|    fps              | 1048      |\n",
            "|    time_elapsed     | 80        |\n",
            "|    total_timesteps  | 84823     |\n",
            "| train/              |           |\n",
            "|    learning_rate    | 0.0001    |\n",
            "|    loss             | 0.496     |\n",
            "|    n_updates        | 8705      |\n",
            "-----------------------------------\n",
            "-----------------------------------\n",
            "| rollout/            |           |\n",
            "|    ep_len_mean      | 1.26e+04  |\n",
            "|    ep_rew_mean      | -2.16e+04 |\n",
            "|    exploration_rate | 0.904     |\n",
            "| time/               |           |\n",
            "|    episodes         | 8         |\n",
            "|    fps              | 945       |\n",
            "|    time_elapsed     | 106       |\n",
            "|    total_timesteps  | 100942    |\n",
            "| train/              |           |\n",
            "|    learning_rate    | 0.0001    |\n",
            "|    loss             | 0.386     |\n",
            "|    n_updates        | 12735     |\n",
            "-----------------------------------\n",
            "----------------------------------\n",
            "| rollout/            |          |\n",
            "|    ep_len_mean      | 1.22e+04 |\n",
            "|    ep_rew_mean      | -2.1e+04 |\n",
            "|    exploration_rate | 0.896    |\n",
            "| time/               |          |\n",
            "|    episodes         | 9        |\n",
            "|    fps              | 903      |\n",
            "|    time_elapsed     | 121      |\n",
            "|    total_timesteps  | 109947   |\n",
            "| train/              |          |\n",
            "|    learning_rate    | 0.0001   |\n",
            "|    loss             | 0.373    |\n",
            "|    n_updates        | 14986    |\n",
            "----------------------------------\n",
            "-----------------------------------\n",
            "| rollout/            |           |\n",
            "|    ep_len_mean      | 1.12e+04  |\n",
            "|    ep_rew_mean      | -1.92e+04 |\n",
            "|    exploration_rate | 0.894     |\n",
            "| time/               |           |\n",
            "|    episodes         | 10        |\n",
            "|    fps              | 897       |\n",
            "|    time_elapsed     | 124       |\n",
            "|    total_timesteps  | 112027    |\n",
            "| train/              |           |\n",
            "|    learning_rate    | 0.0001    |\n",
            "|    loss             | 0.553     |\n",
            "|    n_updates        | 15506     |\n",
            "-----------------------------------\n",
            "-----------------------------------\n",
            "| rollout/            |           |\n",
            "|    ep_len_mean      | 1.08e+04  |\n",
            "|    ep_rew_mean      | -1.87e+04 |\n",
            "|    exploration_rate | 0.887     |\n",
            "| time/               |           |\n",
            "|    episodes         | 11        |\n",
            "|    fps              | 876       |\n",
            "|    time_elapsed     | 136       |\n",
            "|    total_timesteps  | 119214    |\n",
            "| train/              |           |\n",
            "|    learning_rate    | 0.0001    |\n",
            "|    loss             | 0.386     |\n",
            "|    n_updates        | 17303     |\n",
            "-----------------------------------\n",
            "-----------------------------------\n",
            "| rollout/            |           |\n",
            "|    ep_len_mean      | 1.36e+04  |\n",
            "|    ep_rew_mean      | -2.35e+04 |\n",
            "|    exploration_rate | 0.845     |\n",
            "| time/               |           |\n",
            "|    episodes         | 12        |\n",
            "|    fps              | 806       |\n",
            "|    time_elapsed     | 202       |\n",
            "|    total_timesteps  | 163602    |\n",
            "| train/              |           |\n",
            "|    learning_rate    | 0.0001    |\n",
            "|    loss             | 0.581     |\n",
            "|    n_updates        | 28400     |\n",
            "-----------------------------------\n",
            "-----------------------------------\n",
            "| rollout/            |           |\n",
            "|    ep_len_mean      | 1.52e+04  |\n",
            "|    ep_rew_mean      | -2.64e+04 |\n",
            "|    exploration_rate | 0.812     |\n",
            "| time/               |           |\n",
            "|    episodes         | 13        |\n",
            "|    fps              | 776       |\n",
            "|    time_elapsed     | 255       |\n",
            "|    total_timesteps  | 198222    |\n",
            "| train/              |           |\n",
            "|    learning_rate    | 0.0001    |\n",
            "|    loss             | 0.831     |\n",
            "|    n_updates        | 37055     |\n",
            "-----------------------------------\n",
            "----------------------------------\n",
            "| rollout/            |          |\n",
            "|    ep_len_mean      | 1.51e+04 |\n",
            "|    ep_rew_mean      | -2.6e+04 |\n",
            "|    exploration_rate | 0.8      |\n",
            "| time/               |          |\n",
            "|    episodes         | 14       |\n",
            "|    fps              | 767      |\n",
            "|    time_elapsed     | 274      |\n",
            "|    total_timesteps  | 210821   |\n",
            "| train/              |          |\n",
            "|    learning_rate    | 0.0001   |\n",
            "|    loss             | 1.14     |\n",
            "|    n_updates        | 40205    |\n",
            "----------------------------------\n",
            "-----------------------------------\n",
            "| rollout/            |           |\n",
            "|    ep_len_mean      | 1.41e+04  |\n",
            "|    ep_rew_mean      | -2.43e+04 |\n",
            "|    exploration_rate | 0.799     |\n",
            "| time/               |           |\n",
            "|    episodes         | 15        |\n",
            "|    fps              | 767       |\n",
            "|    time_elapsed     | 275       |\n",
            "|    total_timesteps  | 211114    |\n",
            "| train/              |           |\n",
            "|    learning_rate    | 0.0001    |\n",
            "|    loss             | 1.07      |\n",
            "|    n_updates        | 40278     |\n",
            "-----------------------------------\n",
            "-----------------------------------\n",
            "| rollout/            |           |\n",
            "|    ep_len_mean      | 1.33e+04  |\n",
            "|    ep_rew_mean      | -2.29e+04 |\n",
            "|    exploration_rate | 0.798     |\n",
            "| time/               |           |\n",
            "|    episodes         | 16        |\n",
            "|    fps              | 766       |\n",
            "|    time_elapsed     | 277       |\n",
            "|    total_timesteps  | 212532    |\n",
            "| train/              |           |\n",
            "|    learning_rate    | 0.0001    |\n",
            "|    loss             | 1.53      |\n",
            "|    n_updates        | 40632     |\n",
            "-----------------------------------\n",
            "-----------------------------------\n",
            "| rollout/            |           |\n",
            "|    ep_len_mean      | 1.42e+04  |\n",
            "|    ep_rew_mean      | -2.44e+04 |\n",
            "|    exploration_rate | 0.771     |\n",
            "| time/               |           |\n",
            "|    episodes         | 17        |\n",
            "|    fps              | 750       |\n",
            "|    time_elapsed     | 320       |\n",
            "|    total_timesteps  | 240830    |\n",
            "| train/              |           |\n",
            "|    learning_rate    | 0.0001    |\n",
            "|    loss             | 1.45      |\n",
            "|    n_updates        | 47707     |\n",
            "-----------------------------------\n",
            "-----------------------------------\n",
            "| rollout/            |           |\n",
            "|    ep_len_mean      | 1.44e+04  |\n",
            "|    ep_rew_mean      | -2.49e+04 |\n",
            "|    exploration_rate | 0.754     |\n",
            "| time/               |           |\n",
            "|    episodes         | 18        |\n",
            "|    fps              | 739       |\n",
            "|    time_elapsed     | 350       |\n",
            "|    total_timesteps  | 259093    |\n",
            "| train/              |           |\n",
            "|    learning_rate    | 0.0001    |\n",
            "|    loss             | 0.987     |\n",
            "|    n_updates        | 52273     |\n",
            "-----------------------------------\n",
            "-----------------------------------\n",
            "| rollout/            |           |\n",
            "|    ep_len_mean      | 1.44e+04  |\n",
            "|    ep_rew_mean      | -2.49e+04 |\n",
            "|    exploration_rate | 0.74      |\n",
            "| time/               |           |\n",
            "|    episodes         | 19        |\n",
            "|    fps              | 732       |\n",
            "|    time_elapsed     | 373       |\n",
            "|    total_timesteps  | 273548    |\n",
            "| train/              |           |\n",
            "|    learning_rate    | 0.0001    |\n",
            "|    loss             | 0.859     |\n",
            "|    n_updates        | 55886     |\n",
            "-----------------------------------\n",
            "-----------------------------------\n",
            "| rollout/            |           |\n",
            "|    ep_len_mean      | 1.51e+04  |\n",
            "|    ep_rew_mean      | -2.61e+04 |\n",
            "|    exploration_rate | 0.713     |\n",
            "| time/               |           |\n",
            "|    episodes         | 20        |\n",
            "|    fps              | 721       |\n",
            "|    time_elapsed     | 419       |\n",
            "|    total_timesteps  | 302568    |\n",
            "| train/              |           |\n",
            "|    learning_rate    | 0.0001    |\n",
            "|    loss             | 1.43      |\n",
            "|    n_updates        | 63141     |\n",
            "-----------------------------------\n",
            "-----------------------------------\n",
            "| rollout/            |           |\n",
            "|    ep_len_mean      | 1.59e+04  |\n",
            "|    ep_rew_mean      | -2.73e+04 |\n",
            "|    exploration_rate | 0.683     |\n",
            "| time/               |           |\n",
            "|    episodes         | 21        |\n",
            "|    fps              | 713       |\n",
            "|    time_elapsed     | 467       |\n",
            "|    total_timesteps  | 333499    |\n",
            "| train/              |           |\n",
            "|    learning_rate    | 0.0001    |\n",
            "|    loss             | 1.75      |\n",
            "|    n_updates        | 70874     |\n",
            "-----------------------------------\n",
            "-----------------------------------\n",
            "| rollout/            |           |\n",
            "|    ep_len_mean      | 1.55e+04  |\n",
            "|    ep_rew_mean      | -2.67e+04 |\n",
            "|    exploration_rate | 0.676     |\n",
            "| time/               |           |\n",
            "|    episodes         | 22        |\n",
            "|    fps              | 711       |\n",
            "|    time_elapsed     | 478       |\n",
            "|    total_timesteps  | 340870    |\n",
            "| train/              |           |\n",
            "|    learning_rate    | 0.0001    |\n",
            "|    loss             | 1.27      |\n",
            "|    n_updates        | 72717     |\n",
            "-----------------------------------\n",
            "-----------------------------------\n",
            "| rollout/            |           |\n",
            "|    ep_len_mean      | 1.52e+04  |\n",
            "|    ep_rew_mean      | -2.61e+04 |\n",
            "|    exploration_rate | 0.668     |\n",
            "| time/               |           |\n",
            "|    episodes         | 23        |\n",
            "|    fps              | 709       |\n",
            "|    time_elapsed     | 492       |\n",
            "|    total_timesteps  | 349330    |\n",
            "| train/              |           |\n",
            "|    learning_rate    | 0.0001    |\n",
            "|    loss             | 1.05      |\n",
            "|    n_updates        | 74832     |\n",
            "-----------------------------------\n",
            "-----------------------------------\n",
            "| rollout/            |           |\n",
            "|    ep_len_mean      | 1.53e+04  |\n",
            "|    ep_rew_mean      | -2.63e+04 |\n",
            "|    exploration_rate | 0.651     |\n",
            "| time/               |           |\n",
            "|    episodes         | 24        |\n",
            "|    fps              | 704       |\n",
            "|    time_elapsed     | 521       |\n",
            "|    total_timesteps  | 367458    |\n",
            "| train/              |           |\n",
            "|    learning_rate    | 0.0001    |\n",
            "|    loss             | 2.1       |\n",
            "|    n_updates        | 79364     |\n",
            "-----------------------------------\n",
            "-----------------------------------\n",
            "| rollout/            |           |\n",
            "|    ep_len_mean      | 1.5e+04   |\n",
            "|    ep_rew_mean      | -2.58e+04 |\n",
            "|    exploration_rate | 0.643     |\n",
            "| time/               |           |\n",
            "|    episodes         | 25        |\n",
            "|    fps              | 702       |\n",
            "|    time_elapsed     | 534       |\n",
            "|    total_timesteps  | 375491    |\n",
            "| train/              |           |\n",
            "|    learning_rate    | 0.0001    |\n",
            "|    loss             | 2.19      |\n",
            "|    n_updates        | 81372     |\n",
            "-----------------------------------\n",
            "-----------------------------------\n",
            "| rollout/            |           |\n",
            "|    ep_len_mean      | 1.52e+04  |\n",
            "|    ep_rew_mean      | -2.61e+04 |\n",
            "|    exploration_rate | 0.625     |\n",
            "| time/               |           |\n",
            "|    episodes         | 26        |\n",
            "|    fps              | 697       |\n",
            "|    time_elapsed     | 565       |\n",
            "|    total_timesteps  | 394287    |\n",
            "| train/              |           |\n",
            "|    learning_rate    | 0.0001    |\n",
            "|    loss             | 1.51      |\n",
            "|    n_updates        | 86071     |\n",
            "-----------------------------------\n",
            "-----------------------------------\n",
            "| rollout/            |           |\n",
            "|    ep_len_mean      | 1.51e+04  |\n",
            "|    ep_rew_mean      | -2.58e+04 |\n",
            "|    exploration_rate | 0.614     |\n",
            "| time/               |           |\n",
            "|    episodes         | 27        |\n",
            "|    fps              | 693       |\n",
            "|    time_elapsed     | 586       |\n",
            "|    total_timesteps  | 406820    |\n",
            "| train/              |           |\n",
            "|    learning_rate    | 0.0001    |\n",
            "|    loss             | 2.4       |\n",
            "|    n_updates        | 89204     |\n",
            "-----------------------------------\n",
            "-----------------------------------\n",
            "| rollout/            |           |\n",
            "|    ep_len_mean      | 1.55e+04  |\n",
            "|    ep_rew_mean      | -2.66e+04 |\n",
            "|    exploration_rate | 0.587     |\n",
            "| time/               |           |\n",
            "|    episodes         | 28        |\n",
            "|    fps              | 686       |\n",
            "|    time_elapsed     | 632       |\n",
            "|    total_timesteps  | 434307    |\n",
            "| train/              |           |\n",
            "|    learning_rate    | 0.0001    |\n",
            "|    loss             | 2.3       |\n",
            "|    n_updates        | 96076     |\n",
            "-----------------------------------\n",
            "-----------------------------------\n",
            "| rollout/            |           |\n",
            "|    ep_len_mean      | 1.55e+04  |\n",
            "|    ep_rew_mean      | -2.67e+04 |\n",
            "|    exploration_rate | 0.573     |\n",
            "| time/               |           |\n",
            "|    episodes         | 29        |\n",
            "|    fps              | 682       |\n",
            "|    time_elapsed     | 658       |\n",
            "|    total_timesteps  | 449982    |\n",
            "| train/              |           |\n",
            "|    learning_rate    | 0.0001    |\n",
            "|    loss             | 1.44      |\n",
            "|    n_updates        | 99995     |\n",
            "-----------------------------------\n",
            "-----------------------------------\n",
            "| rollout/            |           |\n",
            "|    ep_len_mean      | 1.62e+04  |\n",
            "|    ep_rew_mean      | -2.78e+04 |\n",
            "|    exploration_rate | 0.539     |\n",
            "| time/               |           |\n",
            "|    episodes         | 30        |\n",
            "|    fps              | 675       |\n",
            "|    time_elapsed     | 718       |\n",
            "|    total_timesteps  | 485076    |\n",
            "| train/              |           |\n",
            "|    learning_rate    | 0.0001    |\n",
            "|    loss             | 2.32      |\n",
            "|    n_updates        | 108768    |\n",
            "-----------------------------------\n",
            "-----------------------------------\n",
            "| rollout/            |           |\n",
            "|    ep_len_mean      | 1.62e+04  |\n",
            "|    ep_rew_mean      | -2.79e+04 |\n",
            "|    exploration_rate | 0.522     |\n",
            "| time/               |           |\n",
            "|    episodes         | 31        |\n",
            "|    fps              | 672       |\n",
            "|    time_elapsed     | 748       |\n",
            "|    total_timesteps  | 503176    |\n",
            "| train/              |           |\n",
            "|    learning_rate    | 0.0001    |\n",
            "|    loss             | 3.28      |\n",
            "|    n_updates        | 113293    |\n",
            "-----------------------------------\n",
            "-----------------------------------\n",
            "| rollout/            |           |\n",
            "|    ep_len_mean      | 1.64e+04  |\n",
            "|    ep_rew_mean      | -2.82e+04 |\n",
            "|    exploration_rate | 0.502     |\n",
            "| time/               |           |\n",
            "|    episodes         | 32        |\n",
            "|    fps              | 669       |\n",
            "|    time_elapsed     | 783       |\n",
            "|    total_timesteps  | 524076    |\n",
            "| train/              |           |\n",
            "|    learning_rate    | 0.0001    |\n",
            "|    loss             | 3.02      |\n",
            "|    n_updates        | 118518    |\n",
            "-----------------------------------\n",
            "-----------------------------------\n",
            "| rollout/            |           |\n",
            "|    ep_len_mean      | 1.63e+04  |\n",
            "|    ep_rew_mean      | -2.81e+04 |\n",
            "|    exploration_rate | 0.488     |\n",
            "| time/               |           |\n",
            "|    episodes         | 33        |\n",
            "|    fps              | 666       |\n",
            "|    time_elapsed     | 808       |\n",
            "|    total_timesteps  | 538908    |\n",
            "| train/              |           |\n",
            "|    learning_rate    | 0.0001    |\n",
            "|    loss             | 3.77      |\n",
            "|    n_updates        | 122226    |\n",
            "-----------------------------------\n",
            "-----------------------------------\n",
            "| rollout/            |           |\n",
            "|    ep_len_mean      | 1.61e+04  |\n",
            "|    ep_rew_mean      | -2.78e+04 |\n",
            "|    exploration_rate | 0.479     |\n",
            "| time/               |           |\n",
            "|    episodes         | 34        |\n",
            "|    fps              | 664       |\n",
            "|    time_elapsed     | 825       |\n",
            "|    total_timesteps  | 548510    |\n",
            "| train/              |           |\n",
            "|    learning_rate    | 0.0001    |\n",
            "|    loss             | 2.09      |\n",
            "|    n_updates        | 124627    |\n",
            "-----------------------------------\n",
            "-----------------------------------\n",
            "| rollout/            |           |\n",
            "|    ep_len_mean      | 1.72e+04  |\n",
            "|    ep_rew_mean      | -2.98e+04 |\n",
            "|    exploration_rate | 0.427     |\n",
            "| time/               |           |\n",
            "|    episodes         | 35        |\n",
            "|    fps              | 655       |\n",
            "|    time_elapsed     | 919       |\n",
            "|    total_timesteps  | 602824    |\n",
            "| train/              |           |\n",
            "|    learning_rate    | 0.0001    |\n",
            "|    loss             | 3.82      |\n",
            "|    n_updates        | 138205    |\n",
            "-----------------------------------\n",
            "-----------------------------------\n",
            "| rollout/            |           |\n",
            "|    ep_len_mean      | 1.76e+04  |\n",
            "|    ep_rew_mean      | -3.05e+04 |\n",
            "|    exploration_rate | 0.398     |\n",
            "| time/               |           |\n",
            "|    episodes         | 36        |\n",
            "|    fps              | 651       |\n",
            "|    time_elapsed     | 972       |\n",
            "|    total_timesteps  | 633484    |\n",
            "| train/              |           |\n",
            "|    learning_rate    | 0.0001    |\n",
            "|    loss             | 3.14      |\n",
            "|    n_updates        | 145870    |\n",
            "-----------------------------------\n",
            "-----------------------------------\n",
            "| rollout/            |           |\n",
            "|    ep_len_mean      | 1.71e+04  |\n",
            "|    ep_rew_mean      | -2.97e+04 |\n",
            "|    exploration_rate | 0.398     |\n",
            "| time/               |           |\n",
            "|    episodes         | 37        |\n",
            "|    fps              | 651       |\n",
            "|    time_elapsed     | 972       |\n",
            "|    total_timesteps  | 633738    |\n",
            "| train/              |           |\n",
            "|    learning_rate    | 0.0001    |\n",
            "|    loss             | 2.75      |\n",
            "|    n_updates        | 145934    |\n",
            "-----------------------------------\n",
            "----------------------------------\n",
            "| rollout/            |          |\n",
            "|    ep_len_mean      | 1.73e+04 |\n",
            "|    ep_rew_mean      | -3e+04   |\n",
            "|    exploration_rate | 0.375    |\n",
            "| time/               |          |\n",
            "|    episodes         | 38       |\n",
            "|    fps              | 648      |\n",
            "|    time_elapsed     | 1015     |\n",
            "|    total_timesteps  | 658206   |\n",
            "| train/              |          |\n",
            "|    learning_rate    | 0.0001   |\n",
            "|    loss             | 4.81     |\n",
            "|    n_updates        | 152051   |\n",
            "----------------------------------\n",
            "-----------------------------------\n",
            "| rollout/            |           |\n",
            "|    ep_len_mean      | 1.7e+04   |\n",
            "|    ep_rew_mean      | -2.94e+04 |\n",
            "|    exploration_rate | 0.371     |\n",
            "| time/               |           |\n",
            "|    episodes         | 39        |\n",
            "|    fps              | 647       |\n",
            "|    time_elapsed     | 1022      |\n",
            "|    total_timesteps  | 662208    |\n",
            "| train/              |           |\n",
            "|    learning_rate    | 0.0001    |\n",
            "|    loss             | 4.34      |\n",
            "|    n_updates        | 153051    |\n",
            "-----------------------------------\n",
            "-----------------------------------\n",
            "| rollout/            |           |\n",
            "|    ep_len_mean      | 1.7e+04   |\n",
            "|    ep_rew_mean      | -2.94e+04 |\n",
            "|    exploration_rate | 0.354     |\n",
            "| time/               |           |\n",
            "|    episodes         | 40        |\n",
            "|    fps              | 645       |\n",
            "|    time_elapsed     | 1053      |\n",
            "|    total_timesteps  | 680076    |\n",
            "| train/              |           |\n",
            "|    learning_rate    | 0.0001    |\n",
            "|    loss             | 4.53      |\n",
            "|    n_updates        | 157518    |\n",
            "-----------------------------------\n",
            "-----------------------------------\n",
            "| rollout/            |           |\n",
            "|    ep_len_mean      | 1.67e+04  |\n",
            "|    ep_rew_mean      | -2.88e+04 |\n",
            "|    exploration_rate | 0.351     |\n",
            "| time/               |           |\n",
            "|    episodes         | 41        |\n",
            "|    fps              | 644       |\n",
            "|    time_elapsed     | 1059      |\n",
            "|    total_timesteps  | 683113    |\n",
            "| train/              |           |\n",
            "|    learning_rate    | 0.0001    |\n",
            "|    loss             | 1.88      |\n",
            "|    n_updates        | 158278    |\n",
            "-----------------------------------\n",
            "-----------------------------------\n",
            "| rollout/            |           |\n",
            "|    ep_len_mean      | 1.81e+04  |\n",
            "|    ep_rew_mean      | -3.14e+04 |\n",
            "|    exploration_rate | 0.277     |\n",
            "| time/               |           |\n",
            "|    episodes         | 42        |\n",
            "|    fps              | 635       |\n",
            "|    time_elapsed     | 1196      |\n",
            "|    total_timesteps  | 760549    |\n",
            "| train/              |           |\n",
            "|    learning_rate    | 0.0001    |\n",
            "|    loss             | 2.63      |\n",
            "|    n_updates        | 177637    |\n",
            "-----------------------------------\n",
            "-----------------------------------\n",
            "| rollout/            |           |\n",
            "|    ep_len_mean      | 1.79e+04  |\n",
            "|    ep_rew_mean      | -3.11e+04 |\n",
            "|    exploration_rate | 0.267     |\n",
            "| time/               |           |\n",
            "|    episodes         | 43        |\n",
            "|    fps              | 633       |\n",
            "|    time_elapsed     | 1217      |\n",
            "|    total_timesteps  | 771487    |\n",
            "| train/              |           |\n",
            "|    learning_rate    | 0.0001    |\n",
            "|    loss             | 3.26      |\n",
            "|    n_updates        | 180371    |\n",
            "-----------------------------------\n",
            "-----------------------------------\n",
            "| rollout/            |           |\n",
            "|    ep_len_mean      | 1.82e+04  |\n",
            "|    ep_rew_mean      | -3.15e+04 |\n",
            "|    exploration_rate | 0.238     |\n",
            "| time/               |           |\n",
            "|    episodes         | 44        |\n",
            "|    fps              | 629       |\n",
            "|    time_elapsed     | 1275      |\n",
            "|    total_timesteps  | 802584    |\n",
            "| train/              |           |\n",
            "|    learning_rate    | 0.0001    |\n",
            "|    loss             | 2.54      |\n",
            "|    n_updates        | 188145    |\n",
            "-----------------------------------\n",
            "----------------------------------\n",
            "| rollout/            |          |\n",
            "|    ep_len_mean      | 1.85e+04 |\n",
            "|    ep_rew_mean      | -3.2e+04 |\n",
            "|    exploration_rate | 0.207    |\n",
            "| time/               |          |\n",
            "|    episodes         | 45       |\n",
            "|    fps              | 625      |\n",
            "|    time_elapsed     | 1333     |\n",
            "|    total_timesteps  | 834356   |\n",
            "| train/              |          |\n",
            "|    learning_rate    | 0.0001   |\n",
            "|    loss             | 2.73     |\n",
            "|    n_updates        | 196088   |\n",
            "----------------------------------\n",
            "-----------------------------------\n",
            "| rollout/            |           |\n",
            "|    ep_len_mean      | 1.85e+04  |\n",
            "|    ep_rew_mean      | -3.19e+04 |\n",
            "|    exploration_rate | 0.192     |\n",
            "| time/               |           |\n",
            "|    episodes         | 46        |\n",
            "|    fps              | 624       |\n",
            "|    time_elapsed     | 1362      |\n",
            "|    total_timesteps  | 850040    |\n",
            "| train/              |           |\n",
            "|    learning_rate    | 0.0001    |\n",
            "|    loss             | 2.34      |\n",
            "|    n_updates        | 200009    |\n",
            "-----------------------------------\n",
            "-----------------------------------\n",
            "| rollout/            |           |\n",
            "|    ep_len_mean      | 1.81e+04  |\n",
            "|    ep_rew_mean      | -3.13e+04 |\n",
            "|    exploration_rate | 0.19      |\n",
            "| time/               |           |\n",
            "|    episodes         | 47        |\n",
            "|    fps              | 623       |\n",
            "|    time_elapsed     | 1366      |\n",
            "|    total_timesteps  | 852122    |\n",
            "| train/              |           |\n",
            "|    learning_rate    | 0.0001    |\n",
            "|    loss             | 4.44      |\n",
            "|    n_updates        | 200530    |\n",
            "-----------------------------------\n",
            "-----------------------------------\n",
            "| rollout/            |           |\n",
            "|    ep_len_mean      | 1.78e+04  |\n",
            "|    ep_rew_mean      | -3.08e+04 |\n",
            "|    exploration_rate | 0.187     |\n",
            "| time/               |           |\n",
            "|    episodes         | 48        |\n",
            "|    fps              | 623       |\n",
            "|    time_elapsed     | 1372      |\n",
            "|    total_timesteps  | 855864    |\n",
            "| train/              |           |\n",
            "|    learning_rate    | 0.0001    |\n",
            "|    loss             | 2.4       |\n",
            "|    n_updates        | 201465    |\n",
            "-----------------------------------\n",
            "-----------------------------------\n",
            "| rollout/            |           |\n",
            "|    ep_len_mean      | 1.83e+04  |\n",
            "|    ep_rew_mean      | -3.15e+04 |\n",
            "|    exploration_rate | 0.15      |\n",
            "| time/               |           |\n",
            "|    episodes         | 49        |\n",
            "|    fps              | 619       |\n",
            "|    time_elapsed     | 1444      |\n",
            "|    total_timesteps  | 894454    |\n",
            "| train/              |           |\n",
            "|    learning_rate    | 0.0001    |\n",
            "|    loss             | 2.6       |\n",
            "|    n_updates        | 211113    |\n",
            "-----------------------------------\n",
            "-----------------------------------\n",
            "| rollout/            |           |\n",
            "|    ep_len_mean      | 1.91e+04  |\n",
            "|    ep_rew_mean      | -3.31e+04 |\n",
            "|    exploration_rate | 0.0908    |\n",
            "| time/               |           |\n",
            "|    episodes         | 50        |\n",
            "|    fps              | 611       |\n",
            "|    time_elapsed     | 1565      |\n",
            "|    total_timesteps  | 957041    |\n",
            "| train/              |           |\n",
            "|    learning_rate    | 0.0001    |\n",
            "|    loss             | 8.33      |\n",
            "|    n_updates        | 226760    |\n",
            "-----------------------------------\n",
            "-----------------------------------\n",
            "| rollout/            |           |\n",
            "|    ep_len_mean      | 1.88e+04  |\n",
            "|    ep_rew_mean      | -3.25e+04 |\n",
            "|    exploration_rate | 0.0887    |\n",
            "| time/               |           |\n",
            "|    episodes         | 51        |\n",
            "|    fps              | 610       |\n",
            "|    time_elapsed     | 1570      |\n",
            "|    total_timesteps  | 959266    |\n",
            "| train/              |           |\n",
            "|    learning_rate    | 0.0001    |\n",
            "|    loss             | 1.48      |\n",
            "|    n_updates        | 227316    |\n",
            "-----------------------------------\n",
            "-----------------------------------\n",
            "| rollout/            |           |\n",
            "|    ep_len_mean      | 1.9e+04   |\n",
            "|    ep_rew_mean      | -3.28e+04 |\n",
            "|    exploration_rate | 0.0626    |\n",
            "| time/               |           |\n",
            "|    episodes         | 52        |\n",
            "|    fps              | 607       |\n",
            "|    time_elapsed     | 1625      |\n",
            "|    total_timesteps  | 986728    |\n",
            "| train/              |           |\n",
            "|    learning_rate    | 0.0001    |\n",
            "|    loss             | 1.73      |\n",
            "|    n_updates        | 234181    |\n",
            "-----------------------------------\n"
          ]
        }
      ],
      "source": [
        "model = DQN(\"MlpPolicy\", finalobj, verbose=2,exploration_fraction=1,exploration_initial_eps=1.0, exploration_final_eps=0.05,tensorboard_log=\"./DQN_Machinelayout_tensorboard/\")\n",
        "model.learn(total_timesteps=1000000, log_interval=1)\n",
        "model.save(\"machine layout\")"
      ]
    },
    {
      "cell_type": "code",
      "execution_count": null,
      "metadata": {
        "id": "eGxMknXS8gfU"
      },
      "outputs": [],
      "source": [
        "pip install -U tensorboard"
      ]
    },
    {
      "cell_type": "code",
      "execution_count": null,
      "metadata": {
        "colab": {
          "background_save": true
        },
        "id": "Adh2ephM9EE2"
      },
      "outputs": [],
      "source": [
        "!tensorboard dev upload --logdir ./DQN_Machinelayout_tensorboard/"
      ]
    },
    {
      "cell_type": "code",
      "execution_count": null,
      "metadata": {
        "id": "7emJ32zaRSX4"
      },
      "outputs": [],
      "source": [
        "ydel model"
      ]
    },
    {
      "cell_type": "code",
      "execution_count": null,
      "metadata": {
        "id": "ilUz0u_gRTgB"
      },
      "outputs": [],
      "source": [
        "model = DQN.load(\"machine layout\")"
      ]
    },
    {
      "cell_type": "markdown",
      "metadata": {
        "id": "b6N46E7fsctL"
      },
      "source": [
        "DQN-Agent Model Testing"
      ]
    },
    {
      "cell_type": "code",
      "execution_count": null,
      "metadata": {
        "colab": {
          "base_uri": "https://localhost:8080/"
        },
        "id": "RapSAFuGRa03",
        "outputId": "4d277918-58e6-47f3-e054-a461b0b1e16d"
      },
      "outputs": [
        {
          "name": "stdout",
          "output_type": "stream",
          "text": [
            "Episode:1 Score:-29775\n",
            "Episode:2 Score:-53828\n",
            "Episode:3 Score:-7114\n",
            "Episode:4 Score:-663624\n",
            "Episode:5 Score:-65785\n",
            "Episode:6 Score:-49643\n",
            "Episode:7 Score:-248567\n",
            "Episode:8 Score:-200408\n",
            "Episode:9 Score:-3946\n",
            "Episode:10 Score:-325386\n"
          ]
        }
      ],
      "source": [
        "episodes=10\n",
        "L = []\n",
        "for episode in range(1,episodes+1):\n",
        "  t = []\n",
        "  obs=finalobj.reset()\n",
        "  done=False\n",
        "  score=0\n",
        "  t.append(finalobj.getOutputWindow())\n",
        "  while not done:\n",
        "    actions, _states = model.predict(obs, deterministic=True)\n",
        "    obs, reward, done, info = finalobj.step(actions)\n",
        "    #finalobj.render()\n",
        "    t.append(finalobj.getOutputWindow())\n",
        "    score=score+reward\n",
        "  L.append(t)\n",
        "  print('Episode:{} Score:{}'.format(episode,score))"
      ]
    },
    {
      "cell_type": "markdown",
      "metadata": {
        "id": "dd5ExF_Pj0tN"
      },
      "source": [
        "Link Google drive with the collab for storing the images and convert it to the GIFS."
      ]
    },
    {
      "cell_type": "code",
      "execution_count": null,
      "metadata": {
        "id": "JxxRbV2BQkJp"
      },
      "outputs": [],
      "source": [
        "for i in range(len(L[0])):\n",
        "  output_img=L[5][i].resize((200,200),resample=Image.BOX)\n",
        "  cv2_imshow(np.array(output_img))"
      ]
    },
    {
      "cell_type": "code",
      "execution_count": null,
      "metadata": {
        "colab": {
          "base_uri": "https://localhost:8080/"
        },
        "id": "7sPuNnLeLwel",
        "outputId": "123eb3a8-4ea7-4d29-cd43-198f58668b12"
      },
      "outputs": [
        {
          "name": "stdout",
          "output_type": "stream",
          "text": [
            "19735\n",
            "37036\n",
            "5184\n",
            "457874\n",
            "44807\n",
            "35119\n",
            "169685\n",
            "138204\n",
            "2828\n",
            "223511\n"
          ]
        }
      ],
      "source": [
        "print(len(L[0]))\n",
        "print(len(L[1]))\n",
        "print(len(L[2]))\n",
        "print(len(L[3]))\n",
        "print(len(L[4]))\n",
        "print(len(L[5]))\n",
        "print(len(L[6]))\n",
        "print(len(L[7]))\n",
        "print(len(L[8]))\n",
        "print(len(L[9]))"
      ]
    },
    {
      "cell_type": "code",
      "execution_count": null,
      "metadata": {
        "colab": {
          "base_uri": "https://localhost:8080/",
          "height": 1000
        },
        "id": "IivwuJJBQw4X",
        "outputId": "3352ba2f-3a26-4259-e4c0-06df1ec2b62d"
      },
      "outputs": [
        {
          "data": {
            "image/png": "[encoded data removed]",
            "text/plain": [
              "<PIL.Image.Image image mode=RGB size=200x200 at 0x7F1719932690>"
            ]
          },
          "metadata": {},
          "output_type": "display_data"
        },
        {
          "name": "stdout",
          "output_type": "stream",
          "text": [
            "\n",
            "\n",
            "\n",
            "\n"
          ]
        },
        {
          "data": {
            "image/png": "[encoded data removed]",
            "text/plain": [
              "<PIL.Image.Image image mode=RGB size=200x200 at 0x7F1719932690>"
            ]
          },
          "metadata": {},
          "output_type": "display_data"
        },
        {
          "name": "stdout",
          "output_type": "stream",
          "text": [
            "\n",
            "\n",
            "\n",
            "\n"
          ]
        },
        {
          "data": {
            "image/png": "[encoded data removed]",
            "text/plain": [
              "<PIL.Image.Image image mode=RGB size=200x200 at 0x7F1719932810>"
            ]
          },
          "metadata": {},
          "output_type": "display_data"
        },
        {
          "name": "stdout",
          "output_type": "stream",
          "text": [
            "\n",
            "\n",
            "\n",
            "\n"
          ]
        },
        {
          "data": {
            "image/png": "[encoded data removed]",
            "text/plain": [
              "<PIL.Image.Image image mode=RGB size=200x200 at 0x7F1719932A10>"
            ]
          },
          "metadata": {},
          "output_type": "display_data"
        },
        {
          "name": "stdout",
          "output_type": "stream",
          "text": [
            "\n",
            "\n",
            "\n",
            "\n"
          ]
        },
        {
          "data": {
            "image/png": "[encoded data removed]",
            "text/plain": [
              "<PIL.Image.Image image mode=RGB size=200x200 at 0x7F1719932710>"
            ]
          },
          "metadata": {},
          "output_type": "display_data"
        },
        {
          "name": "stdout",
          "output_type": "stream",
          "text": [
            "\n",
            "\n",
            "\n",
            "\n"
          ]
        },
        {
          "data": {
            "image/png": "[encoded data removed]",
            "text/plain": [
              "<PIL.Image.Image image mode=RGB size=200x200 at 0x7F17199327D0>"
            ]
          },
          "metadata": {},
          "output_type": "display_data"
        },
        {
          "name": "stdout",
          "output_type": "stream",
          "text": [
            "\n",
            "\n",
            "\n",
            "\n"
          ]
        },
        {
          "data": {
            "image/png": "[encoded data removed]",
            "text/plain": [
              "<PIL.Image.Image image mode=RGB size=200x200 at 0x7F1719932D90>"
            ]
          },
          "metadata": {},
          "output_type": "display_data"
        },
        {
          "name": "stdout",
          "output_type": "stream",
          "text": [
            "\n",
            "\n",
            "\n",
            "\n"
          ]
        },
        {
          "data": {
            "image/png": "[encoded data removed]",
            "text/plain": [
              "<PIL.Image.Image image mode=RGB size=200x200 at 0x7F1719932ED0>"
            ]
          },
          "metadata": {},
          "output_type": "display_data"
        },
        {
          "name": "stdout",
          "output_type": "stream",
          "text": [
            "\n",
            "\n",
            "\n",
            "\n"
          ]
        },
        {
          "data": {
            "image/png": "[encoded data removed]",
            "text/plain": [
              "<PIL.Image.Image image mode=RGB size=200x200 at 0x7F1719932FD0>"
            ]
          },
          "metadata": {},
          "output_type": "display_data"
        },
        {
          "name": "stdout",
          "output_type": "stream",
          "text": [
            "\n",
            "\n",
            "\n",
            "\n"
          ]
        },
        {
          "data": {
            "image/png": "[encoded data removed]",
            "text/plain": [
              "<PIL.Image.Image image mode=RGB size=200x200 at 0x7F1719908190>"
            ]
          },
          "metadata": {},
          "output_type": "display_data"
        }
      ],
      "source": [
        "output_img_1=L[0][19734].resize((200,200),resample=Image.BOX)\n",
        "cv2_imshow(np.array(output_img_1))\n",
        "print(\"\\n\\n\\n\")\n",
        "output_img_2=L[1][37035].resize((200,200),resample=Image.BOX)\n",
        "cv2_imshow(np.array(output_img_2))\n",
        "print(\"\\n\\n\\n\")\n",
        "output_img_3=L[2][5183].resize((200,200),resample=Image.BOX)\n",
        "cv2_imshow(np.array(output_img_3))\n",
        "print(\"\\n\\n\\n\")\n",
        "output_img_4=L[3][457873].resize((200,200),resample=Image.BOX)\n",
        "cv2_imshow(np.array(output_img_4))\n",
        "print(\"\\n\\n\\n\")\n",
        "output_img_5=L[4][44806].resize((200,200),resample=Image.BOX)\n",
        "cv2_imshow(np.array(output_img_5))\n",
        "print(\"\\n\\n\\n\")\n",
        "output_img_6=L[5][35118].resize((200,200),resample=Image.BOX)\n",
        "cv2_imshow(np.array(output_img_6))\n",
        "print(\"\\n\\n\\n\")\n",
        "output_img_7=L[6][169684].resize((200,200),resample=Image.BOX)\n",
        "cv2_imshow(np.array(output_img_7))\n",
        "print(\"\\n\\n\\n\")\n",
        "output_img_8=L[7][138203].resize((200,200),resample=Image.BOX)\n",
        "cv2_imshow(np.array(output_img_8))\n",
        "print(\"\\n\\n\\n\")\n",
        "output_img_9=L[8][2827].resize((200,200),resample=Image.BOX)\n",
        "cv2_imshow(np.array(output_img_9))\n",
        "print(\"\\n\\n\\n\")\n",
        "output_img_10=L[9][223510].resize((200,200),resample=Image.BOX)\n",
        "cv2_imshow(np.array(output_img_10))"
      ]
    },
    {
      "cell_type": "code",
      "execution_count": null,
      "metadata": {
        "colab": {
          "base_uri": "https://localhost:8080/"
        },
        "id": "CiX2n3V7d9_3",
        "outputId": "acc0fa0b-e52e-48b2-ffd0-d2139f1c6847"
      },
      "outputs": [
        {
          "name": "stdout",
          "output_type": "stream",
          "text": [
            "Mounted at /content/gdrive\n"
          ]
        }
      ],
      "source": [
        "render_images=[]\n",
        "for i in range(len(L[5])):\n",
        "  output_img=L[5][i].resize((200,200),resample=Image.BOX)\n",
        "  render_images.append(output_img)\n",
        "\n",
        "drive.mount('/content/gdrive',force_remount=True)\n",
        "os.chdir(\"/content/gdrive/MyDrive/Project_1\")\n",
        "sys.path.append(\"/content/gdrive/MyDrive/Project_1\")\n",
        "\n",
        "images=[]\n",
        "for i in range(len(render_images)):\n",
        "  imageio.imsave(\"abc_\"+str(i)+\".png\",render_images[i])\n",
        "  \n",
        "for i in range(len(render_images)):  \n",
        "  images.append(imageio.imread(\"abc_\"+str(i)+\".png\"))\n",
        "imageio.mimsave('/content/gdrive/MyDrive/Project_1/movie1.gif', images,fps=len(render_images))\n",
        "\n",
        "#print(list(sorted(images, key=number))) \n",
        "#imageio.imread(\"abc_%d.png\"%i)"
      ]
    },
    {
      "cell_type": "markdown",
      "metadata": {
        "id": "Hv3NCRT4kLFc"
      },
      "source": [
        "Download the GIFS created before."
      ]
    },
    {
      "cell_type": "code",
      "execution_count": null,
      "metadata": {
        "colab": {
          "base_uri": "https://localhost:8080/",
          "height": 17
        },
        "id": "FCYHou9cjZFF",
        "outputId": "e5476798-be4e-4ef2-abdb-b7ec4c9a96de"
      },
      "outputs": [
        {
          "data": {
            "application/javascript": [
              "\n",
              "    async function download(id, filename, size) {\n",
              "      if (!google.colab.kernel.accessAllowed) {\n",
              "        return;\n",
              "      }\n",
              "      const div = document.createElement('div');\n",
              "      const label = document.createElement('label');\n",
              "      label.textContent = `Downloading \"${filename}\": `;\n",
              "      div.appendChild(label);\n",
              "      const progress = document.createElement('progress');\n",
              "      progress.max = size;\n",
              "      div.appendChild(progress);\n",
              "      document.body.appendChild(div);\n",
              "\n",
              "      const buffers = [];\n",
              "      let downloaded = 0;\n",
              "\n",
              "      const channel = await google.colab.kernel.comms.open(id);\n",
              "      // Send a message to notify the kernel that we're ready.\n",
              "      channel.send({})\n",
              "\n",
              "      for await (const message of channel.messages) {\n",
              "        // Send a message to notify the kernel that we're ready.\n",
              "        channel.send({})\n",
              "        if (message.buffers) {\n",
              "          for (const buffer of message.buffers) {\n",
              "            buffers.push(buffer);\n",
              "            downloaded += buffer.byteLength;\n",
              "            progress.value = downloaded;\n",
              "          }\n",
              "        }\n",
              "      }\n",
              "      const blob = new Blob(buffers, {type: 'application/binary'});\n",
              "      const a = document.createElement('a');\n",
              "      a.href = window.URL.createObjectURL(blob);\n",
              "      a.download = filename;\n",
              "      div.appendChild(a);\n",
              "      a.click();\n",
              "      div.remove();\n",
              "    }\n",
              "  "
            ],
            "text/plain": [
              "<IPython.core.display.Javascript object>"
            ]
          },
          "metadata": {},
          "output_type": "display_data"
        },
        {
          "data": {
            "application/javascript": [
              "download(\"download_699e0ed5-5519-43f2-ad07-691b58faa166\", \"movie1.gif\", 21295153)"
            ],
            "text/plain": [
              "<IPython.core.display.Javascript object>"
            ]
          },
          "metadata": {},
          "output_type": "display_data"
        }
      ],
      "source": [
        " files.download('/content/gdrive/MyDrive/Project/movie1.gif')"
      ]
    },
    {
      "cell_type": "markdown",
      "metadata": {
        "id": "cEFkMHGM_06l"
      },
      "source": [
        "#DEEP -Q NETWORK-Using Keras rl\n"
      ]
    },
    {
      "cell_type": "markdown",
      "metadata": {
        "id": "9xeLvRj7AUlF"
      },
      "source": [
        "Importing required modules for building model"
      ]
    },
    {
      "cell_type": "code",
      "execution_count": null,
      "metadata": {
        "id": "uZemRa7Us5pf"
      },
      "outputs": [],
      "source": [
        "!pip install tensorflow==2.3.1 gym keras-rl2 gym[atari]"
      ]
    },
    {
      "cell_type": "code",
      "execution_count": null,
      "metadata": {
        "id": "Na5NSNRrNQOv"
      },
      "outputs": [],
      "source": [
        "from tensorflow.keras.models import Sequential\n",
        "from tensorflow.keras.layers import Dense, Flatten, Convolution2D,MaxPooling2D, Dropout\n",
        "from tensorflow.keras.optimizers import Adam\n",
        "from tensorflow.python.keras import metrics"
      ]
    },
    {
      "cell_type": "markdown",
      "metadata": {
        "id": "ICp0NOA6AeDQ"
      },
      "source": [
        "Defining layers of neural network with input window shape(10x10x3)"
      ]
    },
    {
      "cell_type": "code",
      "execution_count": null,
      "metadata": {
        "id": "HlKmf-BPNWdx"
      },
      "outputs": [],
      "source": [
        "height,width,channels=finalobj.observation_space.shape\n",
        "actions=finalobj.action_space.n\n",
        "\n",
        "def build_model(height,width,channels, actions):\n",
        "    model = Sequential()\n",
        "    model.add(Convolution2D(64, (3,3),activation='relu', input_shape=(4,height,width,channels),padding='same'))\n",
        "    model.add(Dropout(0.2))\n",
        "    model.add(Convolution2D(64, (3,3), activation='relu',padding='same'))\n",
        "    model.add(Dropout(0.2))\n",
        "    model.add(Convolution2D(64, (3,3), activation='relu',padding='same'))\n",
        "    model.add(Dropout(0.2))\n",
        "    model.add(Flatten())\n",
        "    model.add(Dense(512, activation='relu'))\n",
        "    model.add(Dense(256, activation='relu'))\n",
        "    model.add(Dense(actions, activation='linear'))\n",
        "    return model"
      ]
    },
    {
      "cell_type": "code",
      "execution_count": null,
      "metadata": {
        "id": "AVmRT2OxNoHY"
      },
      "outputs": [],
      "source": [
        "del model"
      ]
    },
    {
      "cell_type": "markdown",
      "metadata": {
        "id": "qRMUriHJA5oc"
      },
      "source": [
        "Creating object of the build neural network model"
      ]
    },
    {
      "cell_type": "code",
      "execution_count": null,
      "metadata": {
        "id": "7cH2aGSSNqMQ"
      },
      "outputs": [],
      "source": [
        "model = build_model(height,width,channels, actions)"
      ]
    },
    {
      "cell_type": "markdown",
      "metadata": {
        "id": "7cZac3d6A9_c"
      },
      "source": [
        "Checking the layers of the neural network model"
      ]
    },
    {
      "cell_type": "code",
      "execution_count": null,
      "metadata": {
        "colab": {
          "base_uri": "https://localhost:8080/"
        },
        "id": "8t27bZEZPeDp",
        "outputId": "0386132f-4e54-4df4-ebb0-4f0172b9671c"
      },
      "outputs": [
        {
          "name": "stdout",
          "output_type": "stream",
          "text": [
            "Model: \"sequential_1\"\n",
            "_________________________________________________________________\n",
            "Layer (type)                 Output Shape              Param #   \n",
            "=================================================================\n",
            "conv2d_3 (Conv2D)            (None, 4, 10, 10, 64)     1792      \n",
            "_________________________________________________________________\n",
            "dropout_3 (Dropout)          (None, 4, 10, 10, 64)     0         \n",
            "_________________________________________________________________\n",
            "conv2d_4 (Conv2D)            (None, 4, 10, 10, 64)     36928     \n",
            "_________________________________________________________________\n",
            "dropout_4 (Dropout)          (None, 4, 10, 10, 64)     0         \n",
            "_________________________________________________________________\n",
            "conv2d_5 (Conv2D)            (None, 4, 10, 10, 64)     36928     \n",
            "_________________________________________________________________\n",
            "dropout_5 (Dropout)          (None, 4, 10, 10, 64)     0         \n",
            "_________________________________________________________________\n",
            "flatten_1 (Flatten)          (None, 25600)             0         \n",
            "_________________________________________________________________\n",
            "dense_4 (Dense)              (None, 512)               13107712  \n",
            "_________________________________________________________________\n",
            "dense_5 (Dense)              (None, 256)               131328    \n",
            "_________________________________________________________________\n",
            "dense_6 (Dense)              (None, 4)                 1028      \n",
            "=================================================================\n",
            "Total params: 13,315,716\n",
            "Trainable params: 13,315,716\n",
            "Non-trainable params: 0\n",
            "_________________________________________________________________\n"
          ]
        }
      ],
      "source": [
        "model.summary()"
      ]
    },
    {
      "cell_type": "markdown",
      "metadata": {
        "id": "U_0mFip5BJHI"
      },
      "source": [
        "Importing DQN Agent required modules from keras rl"
      ]
    },
    {
      "cell_type": "code",
      "execution_count": null,
      "metadata": {
        "id": "UtpX-IhwQ8br"
      },
      "outputs": [],
      "source": [
        "from rl.agents import DQNAgent\n",
        "from rl.memory import SequentialMemory\n",
        "from rl.policy import LinearAnnealedPolicy, EpsGreedyQPolicy"
      ]
    },
    {
      "cell_type": "markdown",
      "metadata": {
        "id": "Q6upERrbBPyW"
      },
      "source": [
        "Function to build DQN Agent"
      ]
    },
    {
      "cell_type": "code",
      "execution_count": null,
      "metadata": {
        "id": "BQnX-ZvEUUMd"
      },
      "outputs": [],
      "source": [
        "def build_agent(model, actions):\n",
        "    policy = LinearAnnealedPolicy(EpsGreedyQPolicy(), attr='eps', value_max=1., value_min=.1, value_test=.2, nb_steps=500000)\n",
        "    memory = SequentialMemory(limit=50000, window_length=4)\n",
        "    dqn = DQNAgent(model=model, memory=memory, policy=policy,\n",
        "                  enable_dueling_network=True, dueling_type='avg', \n",
        "                   nb_actions=actions, nb_steps_warmup=10000\n",
        "                  )\n",
        "    return dqn"
      ]
    },
    {
      "cell_type": "code",
      "execution_count": null,
      "metadata": {
        "colab": {
          "base_uri": "https://localhost:8080/"
        },
        "id": "nb7KDceyVtk1",
        "outputId": "fe94cef7-c55d-4289-dc55-f2c05386d88a"
      },
      "outputs": [
        {
          "name": "stderr",
          "output_type": "stream",
          "text": [
            "WARNING:tensorflow:From /usr/local/lib/python3.7/dist-packages/tensorflow/python/keras/engine/training_v1.py:2070: Model.state_updates (from tensorflow.python.keras.engine.training) is deprecated and will be removed in a future version.\n",
            "Instructions for updating:\n",
            "This property should not be used in TensorFlow 2.0, as updates are applied automatically.\n"
          ]
        },
        {
          "name": "stdout",
          "output_type": "stream",
          "text": [
            "Training for 500000 steps ...\n",
            "  30202/500000: episode: 1, duration: 486.249s, episode steps: 30202, steps per second:  62, episode reward: -51064.000, mean reward: -1.691 [-12.000,  1.000], mean action: 1.508 [0.000, 3.000],  loss: 1.685388, accuracy: 0.269810, mean_q: 9.193512, mean_eps: 0.963818\n",
            " 111435/500000: episode: 2, duration: 1867.504s, episode steps: 81233, steps per second:  43, episode reward: -139715.000, mean reward: -1.720 [-14.000,  1.000], mean action: 1.496 [0.000, 3.000],  loss: 0.383704, accuracy: 0.264756, mean_q: -1.239779, mean_eps: 0.872528\n",
            " 198465/500000: episode: 3, duration: 1984.242s, episode steps: 87030, steps per second:  44, episode reward: -147823.000, mean reward: -1.699 [-16.000,  1.000], mean action: 1.497 [0.000, 3.000],  loss: 0.317691, accuracy: 0.242040, mean_q: -10.086706, mean_eps: 0.721091\n",
            " 211756/500000: episode: 4, duration: 302.025s, episode steps: 13291, steps per second:  44, episode reward: -22591.000, mean reward: -1.700 [-8.000,  1.000], mean action: 1.479 [0.000, 3.000],  loss: 0.393937, accuracy: 0.263924, mean_q: -14.313431, mean_eps: 0.630802\n",
            " 226177/500000: episode: 5, duration: 332.077s, episode steps: 14421, steps per second:  43, episode reward: -24244.000, mean reward: -1.681 [-10.000,  1.000], mean action: 1.464 [0.000, 3.000],  loss: 0.390617, accuracy: 0.254444, mean_q: -15.305970, mean_eps: 0.605861\n",
            " 235373/500000: episode: 6, duration: 210.248s, episode steps: 9196, steps per second:  44, episode reward: -15424.000, mean reward: -1.677 [-12.000,  1.000], mean action: 1.487 [0.000, 3.000],  loss: 0.408141, accuracy: 0.221095, mean_q: -16.043765, mean_eps: 0.584606\n",
            " 243551/500000: episode: 7, duration: 187.317s, episode steps: 8178, steps per second:  44, episode reward: -13547.000, mean reward: -1.657 [-12.000,  1.000], mean action: 1.493 [0.000, 3.000],  loss: 0.401386, accuracy: 0.228758, mean_q: -16.275605, mean_eps: 0.568969\n",
            " 252776/500000: episode: 8, duration: 211.385s, episode steps: 9225, steps per second:  44, episode reward: -15846.000, mean reward: -1.718 [-10.000,  1.000], mean action: 1.500 [0.000, 3.000],  loss: 0.411366, accuracy: 0.214631, mean_q: -16.676777, mean_eps: 0.553307\n",
            " 273678/500000: episode: 9, duration: 479.624s, episode steps: 20902, steps per second:  44, episode reward: -34082.000, mean reward: -1.631 [-12.000,  1.000], mean action: 1.461 [0.000, 3.000],  loss: 0.423231, accuracy: 0.231736, mean_q: -17.819274, mean_eps: 0.526192\n",
            " 305880/500000: episode: 10, duration: 741.733s, episode steps: 32202, steps per second:  43, episode reward: -51561.000, mean reward: -1.601 [-12.000,  1.000], mean action: 1.471 [0.000, 3.000],  loss: 0.426823, accuracy: 0.244313, mean_q: -19.342885, mean_eps: 0.478399\n",
            " 309797/500000: episode: 11, duration: 92.025s, episode steps: 3917, steps per second:  43, episode reward: -6438.000, mean reward: -1.644 [-8.000,  1.000], mean action: 1.536 [0.000, 3.000],  loss: 0.352724, accuracy: 0.218989, mean_q: -19.902519, mean_eps: 0.445892\n",
            " 364664/500000: episode: 12, duration: 1254.549s, episode steps: 54867, steps per second:  44, episode reward: -90814.000, mean reward: -1.655 [-12.000,  1.000], mean action: 1.524 [0.000, 3.000],  loss: 0.487821, accuracy: 0.203652, mean_q: -21.960545, mean_eps: 0.392986\n",
            " 375924/500000: episode: 13, duration: 257.118s, episode steps: 11260, steps per second:  44, episode reward: -18150.000, mean reward: -1.612 [-10.000,  1.000], mean action: 1.503 [0.000, 3.000],  loss: 0.529306, accuracy: 0.200161, mean_q: -23.810933, mean_eps: 0.333472\n",
            " 440272/500000: episode: 14, duration: 1497.781s, episode steps: 64348, steps per second:  43, episode reward: -102113.000, mean reward: -1.587 [-12.000,  1.000], mean action: 1.565 [0.000, 3.000],  loss: 0.538401, accuracy: 0.186995, mean_q: -25.661020, mean_eps: 0.265424\n",
            "done, took 11282.351 seconds\n"
          ]
        }
      ],
      "source": [
        "dqn = build_agent(model, actions)\n",
        "dqn.compile(optimizer=Adam(lr=1e-4),metrics=[\"accuracy\"])\n",
        "h=dqn.fit(finalobj, nb_steps=500000, visualize=False, verbose=2,log_interval=50000)"
      ]
    },
    {
      "cell_type": "code",
      "execution_count": null,
      "metadata": {
        "colab": {
          "base_uri": "https://localhost:8080/"
        },
        "id": "wNZkJ7iSQfD7",
        "outputId": "8627a719-cfb8-443d-9c06-d504a33ba137"
      },
      "outputs": [
        {
          "name": "stdout",
          "output_type": "stream",
          "text": [
            "episode_reward [-51064.0, -139715.0, -147823.0, -22591.0, -24244.0, -15424.0, -13547.0, -15846.0, -34082.0, -51561.0, -6438.0, -90814.0, -18150.0, -102113.0]\n",
            "nb_episode_steps [30202, 81233, 87030, 13291, 14421, 9196, 8178, 9225, 20902, 32202, 3917, 54867, 11260, 64348]\n",
            "nb_steps [30202, 111435, 198465, 211756, 226177, 235373, 243551, 252776, 273678, 305880, 309797, 364664, 375924, 440272]\n"
          ]
        }
      ],
      "source": [
        "for key, value in h.history.items():\n",
        "    print (key, value)"
      ]
    },
    {
      "cell_type": "code",
      "execution_count": null,
      "metadata": {
        "colab": {
          "base_uri": "https://localhost:8080/",
          "height": 300
        },
        "id": "a1LcYCxO39wO",
        "outputId": "2fb250ff-9c6d-471b-8045-656fcd39fb83"
      },
      "outputs": [
        {
          "name": "stderr",
          "output_type": "stream",
          "text": [
            "WARNING:matplotlib.legend:No handles with labels found to put in legend.\n"
          ]
        },
        {
          "data": {
            "image/png": "[encoded data removed]",
            "text/plain": [
              "<Figure size 432x288 with 1 Axes>"
            ]
          },
          "metadata": {},
          "output_type": "display_data"
        }
      ],
      "source": [
        "x=h.history[\"nb_steps\"]\n",
        "y=h.history[\"episode_reward\"]\n",
        "plt.plot(x,y)\n",
        "plt.xlabel('nb_steps')\n",
        "plt.ylabel('episode_reward')\n",
        "plt.legend()\n",
        "plt.show()"
      ]
    },
    {
      "cell_type": "code",
      "execution_count": null,
      "metadata": {
        "colab": {
          "base_uri": "https://localhost:8080/"
        },
        "id": "8od0JFs8UhyD",
        "outputId": "2cb65042-864a-4728-c0ca-214d3b833e5a"
      },
      "outputs": [
        {
          "name": "stdout",
          "output_type": "stream",
          "text": [
            "Testing for 10 episodes ...\n",
            "Episode 1: reward: -86548.000, steps: 53951\n",
            "Episode 2: reward: -71806.000, steps: 45125\n",
            "Episode 3: reward: -108375.000, steps: 68759\n",
            "Episode 4: reward: -67616.000, steps: 42210\n",
            "Episode 5: reward: -45159.000, steps: 27505\n",
            "Episode 6: reward: -15694.000, steps: 9732\n",
            "Episode 7: reward: -233412.000, steps: 149678\n",
            "Episode 8: reward: -221621.000, steps: 140182\n",
            "Episode 9: reward: -1190.000, steps: 833\n",
            "Episode 10: reward: -55990.000, steps: 35284\n",
            "-90741.1\n"
          ]
        }
      ],
      "source": [
        "scores = dqn.test(finalobj, nb_episodes=10, visualize=False)\n",
        "\n",
        "print(np.mean(scores.history['episode_reward']))"
      ]
    },
    {
      "cell_type": "code",
      "execution_count": null,
      "metadata": {
        "colab": {
          "base_uri": "https://localhost:8080/"
        },
        "id": "TLD_lTWWLRQv",
        "outputId": "943dac76-0b42-40ff-cf44-496c4e1db75b"
      },
      "outputs": [
        {
          "name": "stdout",
          "output_type": "stream",
          "text": [
            "episode_reward [-383.0, 0.0, 0.0, -176.0, -38.0, 1.0, -162.0, -8.0, 0.0, -55.0]\n",
            "nb_steps [224, 2, 2, 125, 34, 1, 111, 8, 2, 53]\n"
          ]
        }
      ],
      "source": [
        "for key, value in scores.history.items():\n",
        "    print (key, value)"
      ]
    },
    {
      "cell_type": "code",
      "execution_count": null,
      "metadata": {
        "colab": {
          "base_uri": "https://localhost:8080/",
          "height": 297
        },
        "id": "tWGO0XNJcnAc",
        "outputId": "7db79674-b150-423e-8dc0-1bb058aa92a0"
      },
      "outputs": [
        {
          "name": "stderr",
          "output_type": "stream",
          "text": [
            "No handles with labels found to put in legend.\n"
          ]
        },
        {
          "data": {
            "image/png": "[encoded data removed]",
            "text/plain": [
              "<Figure size 432x288 with 1 Axes>"
            ]
          },
          "metadata": {},
          "output_type": "display_data"
        }
      ],
      "source": [
        "x=scores.history[\"nb_steps\"]\n",
        "y=scores.history[\"episode_reward\"]\n",
        "plt.plot(x,y)\n",
        "plt.xlabel('nb_steps')\n",
        "plt.ylabel('episode_reward')\n",
        "plt.legend()\n",
        "plt.show()"
      ]
    },
    {
      "cell_type": "code",
      "execution_count": null,
      "metadata": {
        "id": "V4UGlSYztgMj"
      },
      "outputs": [],
      "source": []
    }
  ],
  "metadata": {
    "accelerator": "TPU",
    "colab": {
      "collapsed_sections": [
        "I4nFPhPR9Eg0",
        "cEFkMHGM_06l"
      ],
      "provenance": []
    },
    "gpuClass": "standard",
    "kernelspec": {
      "display_name": "Python 3",
      "name": "python3"
    },
    "language_info": {
      "name": "python"
    },
    "widgets": {
      "application/vnd.jupyter.widget-state+json": {
        "081314947b0446a6b378cc419d412744": {
          "model_module": "@jupyter-widgets/base",
          "model_module_version": "1.2.0",
          "model_name": "LayoutModel",
          "state": {
            "_model_module": "@jupyter-widgets/base",
            "_model_module_version": "1.2.0",
            "_model_name": "LayoutModel",
            "_view_count": null,
            "_view_module": "@jupyter-widgets/base",
            "_view_module_version": "1.2.0",
            "_view_name": "LayoutView",
            "align_content": null,
            "align_items": null,
            "align_self": null,
            "border": null,
            "bottom": null,
            "display": null,
            "flex": null,
            "flex_flow": null,
            "grid_area": null,
            "grid_auto_columns": null,
            "grid_auto_flow": null,
            "grid_auto_rows": null,
            "grid_column": null,
            "grid_gap": null,
            "grid_row": null,
            "grid_template_areas": null,
            "grid_template_columns": null,
            "grid_template_rows": null,
            "height": null,
            "justify_content": null,
            "justify_items": null,
            "left": null,
            "margin": null,
            "max_height": null,
            "max_width": null,
            "min_height": null,
            "min_width": null,
            "object_fit": null,
            "object_position": null,
            "order": null,
            "overflow": null,
            "overflow_x": null,
            "overflow_y": null,
            "padding": null,
            "right": null,
            "top": null,
            "visibility": null,
            "width": null
          }
        },
        "21a84854f8d244e38657983500aca2b3": {
          "model_module": "@jupyter-widgets/controls",
          "model_module_version": "1.5.0",
          "model_name": "DropdownModel",
          "state": {
            "_dom_classes": [],
            "_model_module": "@jupyter-widgets/controls",
            "_model_module_version": "1.5.0",
            "_model_name": "DropdownModel",
            "_options_labels": [
              "Horiz_Rectangle",
              "Vert_Rectangle",
              "Square",
              "Lshape",
              "Big_square"
            ],
            "_view_count": null,
            "_view_module": "@jupyter-widgets/controls",
            "_view_module_version": "1.5.0",
            "_view_name": "DropdownView",
            "description": "Choose the machines:",
            "description_tooltip": null,
            "disabled": false,
            "index": 3,
            "layout": "IPY_MODEL_081314947b0446a6b378cc419d412744",
            "style": "IPY_MODEL_b906f21aea234dbab7feab4104bbd3a4"
          }
        },
        "2ddbd8b769d24c7cbdb2e8f33f31757f": {
          "model_module": "@jupyter-widgets/base",
          "model_module_version": "1.2.0",
          "model_name": "LayoutModel",
          "state": {
            "_model_module": "@jupyter-widgets/base",
            "_model_module_version": "1.2.0",
            "_model_name": "LayoutModel",
            "_view_count": null,
            "_view_module": "@jupyter-widgets/base",
            "_view_module_version": "1.2.0",
            "_view_name": "LayoutView",
            "align_content": null,
            "align_items": null,
            "align_self": null,
            "border": null,
            "bottom": null,
            "display": null,
            "flex": null,
            "flex_flow": null,
            "grid_area": null,
            "grid_auto_columns": null,
            "grid_auto_flow": null,
            "grid_auto_rows": null,
            "grid_column": null,
            "grid_gap": null,
            "grid_row": null,
            "grid_template_areas": null,
            "grid_template_columns": null,
            "grid_template_rows": null,
            "height": null,
            "justify_content": null,
            "justify_items": null,
            "left": null,
            "margin": null,
            "max_height": null,
            "max_width": null,
            "min_height": null,
            "min_width": null,
            "object_fit": null,
            "object_position": null,
            "order": null,
            "overflow": null,
            "overflow_x": null,
            "overflow_y": null,
            "padding": null,
            "right": null,
            "top": null,
            "visibility": null,
            "width": null
          }
        },
        "4c57fa0a11b44a6e98c9b38af1bcd212": {
          "model_module": "@jupyter-widgets/controls",
          "model_module_version": "1.5.0",
          "model_name": "DescriptionStyleModel",
          "state": {
            "_model_module": "@jupyter-widgets/controls",
            "_model_module_version": "1.5.0",
            "_model_name": "DescriptionStyleModel",
            "_view_count": null,
            "_view_module": "@jupyter-widgets/base",
            "_view_module_version": "1.2.0",
            "_view_name": "StyleView",
            "description_width": ""
          }
        },
        "65859928dacf46d7887ef68faab711f2": {
          "model_module": "@jupyter-widgets/controls",
          "model_module_version": "1.5.0",
          "model_name": "DescriptionStyleModel",
          "state": {
            "_model_module": "@jupyter-widgets/controls",
            "_model_module_version": "1.5.0",
            "_model_name": "DescriptionStyleModel",
            "_view_count": null,
            "_view_module": "@jupyter-widgets/base",
            "_view_module_version": "1.2.0",
            "_view_name": "StyleView",
            "description_width": ""
          }
        },
        "83b839d6608c465a9d8f31beb75e7bfd": {
          "model_module": "@jupyter-widgets/controls",
          "model_module_version": "1.5.0",
          "model_name": "DescriptionStyleModel",
          "state": {
            "_model_module": "@jupyter-widgets/controls",
            "_model_module_version": "1.5.0",
            "_model_name": "DescriptionStyleModel",
            "_view_count": null,
            "_view_module": "@jupyter-widgets/base",
            "_view_module_version": "1.2.0",
            "_view_name": "StyleView",
            "description_width": ""
          }
        },
        "8619b1325a42460c9b0d863461aee1cf": {
          "model_module": "@jupyter-widgets/controls",
          "model_module_version": "1.5.0",
          "model_name": "DropdownModel",
          "state": {
            "_dom_classes": [],
            "_model_module": "@jupyter-widgets/controls",
            "_model_module_version": "1.5.0",
            "_model_name": "DropdownModel",
            "_options_labels": [
              "Horiz_Rectangle",
              "Vert_Rectangle",
              "Square",
              "Lshape",
              "Big_square"
            ],
            "_view_count": null,
            "_view_module": "@jupyter-widgets/controls",
            "_view_module_version": "1.5.0",
            "_view_name": "DropdownView",
            "description": "Choose the machines:",
            "description_tooltip": null,
            "disabled": false,
            "index": 1,
            "layout": "IPY_MODEL_c55f58e327304ab895fa818c5ca90691",
            "style": "IPY_MODEL_65859928dacf46d7887ef68faab711f2"
          }
        },
        "888e871d134a49d9b226c620e1a6653d": {
          "model_module": "@jupyter-widgets/controls",
          "model_module_version": "1.5.0",
          "model_name": "DropdownModel",
          "state": {
            "_dom_classes": [],
            "_model_module": "@jupyter-widgets/controls",
            "_model_module_version": "1.5.0",
            "_model_name": "DropdownModel",
            "_options_labels": [
              "Horiz_Rectangle",
              "Vert_Rectangle",
              "Square",
              "Lshape",
              "Big_square"
            ],
            "_view_count": null,
            "_view_module": "@jupyter-widgets/controls",
            "_view_module_version": "1.5.0",
            "_view_name": "DropdownView",
            "description": "Choose the machines:",
            "description_tooltip": null,
            "disabled": false,
            "index": 4,
            "layout": "IPY_MODEL_2ddbd8b769d24c7cbdb2e8f33f31757f",
            "style": "IPY_MODEL_b5c2909677e5492391011250b9f3b67e"
          }
        },
        "aadcab1456b84945b26bcca248f5cca4": {
          "model_module": "@jupyter-widgets/controls",
          "model_module_version": "1.5.0",
          "model_name": "DescriptionStyleModel",
          "state": {
            "_model_module": "@jupyter-widgets/controls",
            "_model_module_version": "1.5.0",
            "_model_name": "DescriptionStyleModel",
            "_view_count": null,
            "_view_module": "@jupyter-widgets/base",
            "_view_module_version": "1.2.0",
            "_view_name": "StyleView",
            "description_width": ""
          }
        },
        "ae954de72afd4936a09bc981fe085736": {
          "model_module": "@jupyter-widgets/base",
          "model_module_version": "1.2.0",
          "model_name": "LayoutModel",
          "state": {
            "_model_module": "@jupyter-widgets/base",
            "_model_module_version": "1.2.0",
            "_model_name": "LayoutModel",
            "_view_count": null,
            "_view_module": "@jupyter-widgets/base",
            "_view_module_version": "1.2.0",
            "_view_name": "LayoutView",
            "align_content": null,
            "align_items": null,
            "align_self": null,
            "border": null,
            "bottom": null,
            "display": null,
            "flex": null,
            "flex_flow": null,
            "grid_area": null,
            "grid_auto_columns": null,
            "grid_auto_flow": null,
            "grid_auto_rows": null,
            "grid_column": null,
            "grid_gap": null,
            "grid_row": null,
            "grid_template_areas": null,
            "grid_template_columns": null,
            "grid_template_rows": null,
            "height": null,
            "justify_content": null,
            "justify_items": null,
            "left": null,
            "margin": null,
            "max_height": null,
            "max_width": null,
            "min_height": null,
            "min_width": null,
            "object_fit": null,
            "object_position": null,
            "order": null,
            "overflow": null,
            "overflow_x": null,
            "overflow_y": null,
            "padding": null,
            "right": null,
            "top": null,
            "visibility": null,
            "width": null
          }
        },
        "b5c2909677e5492391011250b9f3b67e": {
          "model_module": "@jupyter-widgets/controls",
          "model_module_version": "1.5.0",
          "model_name": "DescriptionStyleModel",
          "state": {
            "_model_module": "@jupyter-widgets/controls",
            "_model_module_version": "1.5.0",
            "_model_name": "DescriptionStyleModel",
            "_view_count": null,
            "_view_module": "@jupyter-widgets/base",
            "_view_module_version": "1.2.0",
            "_view_name": "StyleView",
            "description_width": ""
          }
        },
        "b906f21aea234dbab7feab4104bbd3a4": {
          "model_module": "@jupyter-widgets/controls",
          "model_module_version": "1.5.0",
          "model_name": "DescriptionStyleModel",
          "state": {
            "_model_module": "@jupyter-widgets/controls",
            "_model_module_version": "1.5.0",
            "_model_name": "DescriptionStyleModel",
            "_view_count": null,
            "_view_module": "@jupyter-widgets/base",
            "_view_module_version": "1.2.0",
            "_view_name": "StyleView",
            "description_width": ""
          }
        },
        "bcd95562241f44e596f84e6de49e40a8": {
          "model_module": "@jupyter-widgets/controls",
          "model_module_version": "1.5.0",
          "model_name": "DropdownModel",
          "state": {
            "_dom_classes": [],
            "_model_module": "@jupyter-widgets/controls",
            "_model_module_version": "1.5.0",
            "_model_name": "DropdownModel",
            "_options_labels": [
              "Horiz_Rectangle",
              "Vert_Rectangle",
              "Square",
              "Lshape",
              "Big_square"
            ],
            "_view_count": null,
            "_view_module": "@jupyter-widgets/controls",
            "_view_module_version": "1.5.0",
            "_view_name": "DropdownView",
            "description": "Choose the machines:",
            "description_tooltip": null,
            "disabled": false,
            "index": 2,
            "layout": "IPY_MODEL_c1449cfb5ae14bd9a8333ba869719d1f",
            "style": "IPY_MODEL_4c57fa0a11b44a6e98c9b38af1bcd212"
          }
        },
        "c1449cfb5ae14bd9a8333ba869719d1f": {
          "model_module": "@jupyter-widgets/base",
          "model_module_version": "1.2.0",
          "model_name": "LayoutModel",
          "state": {
            "_model_module": "@jupyter-widgets/base",
            "_model_module_version": "1.2.0",
            "_model_name": "LayoutModel",
            "_view_count": null,
            "_view_module": "@jupyter-widgets/base",
            "_view_module_version": "1.2.0",
            "_view_name": "LayoutView",
            "align_content": null,
            "align_items": null,
            "align_self": null,
            "border": null,
            "bottom": null,
            "display": null,
            "flex": null,
            "flex_flow": null,
            "grid_area": null,
            "grid_auto_columns": null,
            "grid_auto_flow": null,
            "grid_auto_rows": null,
            "grid_column": null,
            "grid_gap": null,
            "grid_row": null,
            "grid_template_areas": null,
            "grid_template_columns": null,
            "grid_template_rows": null,
            "height": null,
            "justify_content": null,
            "justify_items": null,
            "left": null,
            "margin": null,
            "max_height": null,
            "max_width": null,
            "min_height": null,
            "min_width": null,
            "object_fit": null,
            "object_position": null,
            "order": null,
            "overflow": null,
            "overflow_x": null,
            "overflow_y": null,
            "padding": null,
            "right": null,
            "top": null,
            "visibility": null,
            "width": null
          }
        },
        "c55f58e327304ab895fa818c5ca90691": {
          "model_module": "@jupyter-widgets/base",
          "model_module_version": "1.2.0",
          "model_name": "LayoutModel",
          "state": {
            "_model_module": "@jupyter-widgets/base",
            "_model_module_version": "1.2.0",
            "_model_name": "LayoutModel",
            "_view_count": null,
            "_view_module": "@jupyter-widgets/base",
            "_view_module_version": "1.2.0",
            "_view_name": "LayoutView",
            "align_content": null,
            "align_items": null,
            "align_self": null,
            "border": null,
            "bottom": null,
            "display": null,
            "flex": null,
            "flex_flow": null,
            "grid_area": null,
            "grid_auto_columns": null,
            "grid_auto_flow": null,
            "grid_auto_rows": null,
            "grid_column": null,
            "grid_gap": null,
            "grid_row": null,
            "grid_template_areas": null,
            "grid_template_columns": null,
            "grid_template_rows": null,
            "height": null,
            "justify_content": null,
            "justify_items": null,
            "left": null,
            "margin": null,
            "max_height": null,
            "max_width": null,
            "min_height": null,
            "min_width": null,
            "object_fit": null,
            "object_position": null,
            "order": null,
            "overflow": null,
            "overflow_x": null,
            "overflow_y": null,
            "padding": null,
            "right": null,
            "top": null,
            "visibility": null,
            "width": null
          }
        },
        "d748d905e14942daae5669a851d42088": {
          "model_module": "@jupyter-widgets/controls",
          "model_module_version": "1.5.0",
          "model_name": "DropdownModel",
          "state": {
            "_dom_classes": [],
            "_model_module": "@jupyter-widgets/controls",
            "_model_module_version": "1.5.0",
            "_model_name": "DropdownModel",
            "_options_labels": [
              "Horiz_Rectangle",
              "Vert_Rectangle",
              "Square",
              "Lshape",
              "Big_square"
            ],
            "_view_count": null,
            "_view_module": "@jupyter-widgets/controls",
            "_view_module_version": "1.5.0",
            "_view_name": "DropdownView",
            "description": "Choose the machines:",
            "description_tooltip": null,
            "disabled": false,
            "index": 0,
            "layout": "IPY_MODEL_ead56c292b614dd5abe98287cfc1e2c2",
            "style": "IPY_MODEL_83b839d6608c465a9d8f31beb75e7bfd"
          }
        },
        "ead56c292b614dd5abe98287cfc1e2c2": {
          "model_module": "@jupyter-widgets/base",
          "model_module_version": "1.2.0",
          "model_name": "LayoutModel",
          "state": {
            "_model_module": "@jupyter-widgets/base",
            "_model_module_version": "1.2.0",
            "_model_name": "LayoutModel",
            "_view_count": null,
            "_view_module": "@jupyter-widgets/base",
            "_view_module_version": "1.2.0",
            "_view_name": "LayoutView",
            "align_content": null,
            "align_items": null,
            "align_self": null,
            "border": null,
            "bottom": null,
            "display": null,
            "flex": null,
            "flex_flow": null,
            "grid_area": null,
            "grid_auto_columns": null,
            "grid_auto_flow": null,
            "grid_auto_rows": null,
            "grid_column": null,
            "grid_gap": null,
            "grid_row": null,
            "grid_template_areas": null,
            "grid_template_columns": null,
            "grid_template_rows": null,
            "height": null,
            "justify_content": null,
            "justify_items": null,
            "left": null,
            "margin": null,
            "max_height": null,
            "max_width": null,
            "min_height": null,
            "min_width": null,
            "object_fit": null,
            "object_position": null,
            "order": null,
            "overflow": null,
            "overflow_x": null,
            "overflow_y": null,
            "padding": null,
            "right": null,
            "top": null,
            "visibility": null,
            "width": null
          }
        },
        "fe3c5b48a86f4b5997736499e243965a": {
          "model_module": "@jupyter-widgets/controls",
          "model_module_version": "1.5.0",
          "model_name": "DropdownModel",
          "state": {
            "_dom_classes": [],
            "_model_module": "@jupyter-widgets/controls",
            "_model_module_version": "1.5.0",
            "_model_name": "DropdownModel",
            "_options_labels": [
              "Horiz_Rectangle",
              "Vert_Rectangle",
              "Square",
              "Lshape",
              "Big_square"
            ],
            "_view_count": null,
            "_view_module": "@jupyter-widgets/controls",
            "_view_module_version": "1.5.0",
            "_view_name": "DropdownView",
            "description": "Choose the machines:",
            "description_tooltip": null,
            "disabled": false,
            "index": 2,
            "layout": "IPY_MODEL_ae954de72afd4936a09bc981fe085736",
            "style": "IPY_MODEL_aadcab1456b84945b26bcca248f5cca4"
          }
        }
      }
    }
  },
  "nbformat": 4,
  "nbformat_minor": 0
}